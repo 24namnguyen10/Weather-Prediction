{
 "cells": [
  {
   "cell_type": "markdown",
   "metadata": {
    "id": "WX4GrqKsvKu3"
   },
   "source": [
    "#Prepare somethings"
   ]
  },
  {
   "cell_type": "code",
   "execution_count": 47,
   "metadata": {
    "executionInfo": {
     "elapsed": 663,
     "status": "ok",
     "timestamp": 1735009387600,
     "user": {
      "displayName": "NNamTaj",
      "userId": "04579073928170218763"
     },
     "user_tz": -420
    },
    "id": "FrU3C0uMtu7p"
   },
   "outputs": [],
   "source": [
    "import pyspark\n",
    "import pandas as pd\n",
    "\n",
    "from pyspark.sql import SparkSession"
   ]
  },
  {
   "cell_type": "code",
   "execution_count": 48,
   "metadata": {
    "colab": {
     "base_uri": "https://localhost:8080/"
    },
    "executionInfo": {
     "elapsed": 2689,
     "status": "ok",
     "timestamp": 1735009390283,
     "user": {
      "displayName": "NNamTaj",
      "userId": "04579073928170218763"
     },
     "user_tz": -420
    },
    "id": "BRR_jRaFXgc2",
    "outputId": "86c6e170-0743-44f4-f281-7422f71185ff"
   },
   "outputs": [
    {
     "name": "stdout",
     "output_type": "stream",
     "text": [
      "Drive already mounted at /content/drive/; to attempt to forcibly remount, call drive.mount(\"/content/drive/\", force_remount=True).\n"
     ]
    }
   ],
   "source": [
    "from google.colab import drive\n",
    "drive.mount('/content/drive/')"
   ]
  },
  {
   "cell_type": "code",
   "execution_count": 49,
   "metadata": {
    "colab": {
     "base_uri": "https://localhost:8080/",
     "height": 221
    },
    "executionInfo": {
     "elapsed": 18,
     "status": "ok",
     "timestamp": 1735009390284,
     "user": {
      "displayName": "NNamTaj",
      "userId": "04579073928170218763"
     },
     "user_tz": -420
    },
    "id": "R2y6ZS7jW4dz",
    "outputId": "56c30292-42c8-417f-8842-a4efe51aa36e"
   },
   "outputs": [
    {
     "data": {
      "text/html": [
       "\n",
       "            <div>\n",
       "                <p><b>SparkSession - in-memory</b></p>\n",
       "                \n",
       "        <div>\n",
       "            <p><b>SparkContext</b></p>\n",
       "\n",
       "            <p><a href=\"http://854f944b26bb:4040\">Spark UI</a></p>\n",
       "\n",
       "            <dl>\n",
       "              <dt>Version</dt>\n",
       "                <dd><code>v3.5.3</code></dd>\n",
       "              <dt>Master</dt>\n",
       "                <dd><code>local[*]</code></dd>\n",
       "              <dt>AppName</dt>\n",
       "                <dd><code>Project</code></dd>\n",
       "            </dl>\n",
       "        </div>\n",
       "        \n",
       "            </div>\n",
       "        "
      ],
      "text/plain": [
       "<pyspark.sql.session.SparkSession at 0x7b3b62f7b6d0>"
      ]
     },
     "execution_count": 49,
     "metadata": {},
     "output_type": "execute_result"
    }
   ],
   "source": [
    "spark = SparkSession.builder.appName(\"Project\").getOrCreate()\n",
    "spark"
   ]
  },
  {
   "cell_type": "markdown",
   "metadata": {
    "id": "LO1Wdd4avNs0"
   },
   "source": [
    "#Import data"
   ]
  },
  {
   "cell_type": "code",
   "execution_count": 50,
   "metadata": {
    "colab": {
     "base_uri": "https://localhost:8080/",
     "height": 206
    },
    "executionInfo": {
     "elapsed": 15,
     "status": "ok",
     "timestamp": 1735009390284,
     "user": {
      "displayName": "NNamTaj",
      "userId": "04579073928170218763"
     },
     "user_tz": -420
    },
    "id": "Wn6c0mvaIRK9",
    "outputId": "d7b38121-3f79-4730-abe1-8dd66e612711"
   },
   "outputs": [
    {
     "data": {
      "application/vnd.google.colaboratory.intrinsic+json": {
       "type": "dataframe",
       "variable_name": "df"
      },
      "text/html": [
       "\n",
       "  <div id=\"df-7fe23746-1669-4039-93cd-e25ac3bb5fd2\" class=\"colab-df-container\">\n",
       "    <div>\n",
       "<style scoped>\n",
       "    .dataframe tbody tr th:only-of-type {\n",
       "        vertical-align: middle;\n",
       "    }\n",
       "\n",
       "    .dataframe tbody tr th {\n",
       "        vertical-align: top;\n",
       "    }\n",
       "\n",
       "    .dataframe thead th {\n",
       "        text-align: right;\n",
       "    }\n",
       "</style>\n",
       "<table border=\"1\" class=\"dataframe\">\n",
       "  <thead>\n",
       "    <tr style=\"text-align: right;\">\n",
       "      <th></th>\n",
       "      <th>province</th>\n",
       "      <th>max</th>\n",
       "      <th>min</th>\n",
       "      <th>wind</th>\n",
       "      <th>wind_d</th>\n",
       "      <th>rain</th>\n",
       "      <th>humidi</th>\n",
       "      <th>cloud</th>\n",
       "      <th>pressure</th>\n",
       "      <th>date</th>\n",
       "    </tr>\n",
       "  </thead>\n",
       "  <tbody>\n",
       "    <tr>\n",
       "      <th>0</th>\n",
       "      <td>Bac Lieu</td>\n",
       "      <td>27</td>\n",
       "      <td>22</td>\n",
       "      <td>17</td>\n",
       "      <td>NNE</td>\n",
       "      <td>6.9</td>\n",
       "      <td>90</td>\n",
       "      <td>71</td>\n",
       "      <td>1010</td>\n",
       "      <td>2009-01-01</td>\n",
       "    </tr>\n",
       "    <tr>\n",
       "      <th>1</th>\n",
       "      <td>Bac Lieu</td>\n",
       "      <td>31</td>\n",
       "      <td>25</td>\n",
       "      <td>20</td>\n",
       "      <td>ENE</td>\n",
       "      <td>0.0</td>\n",
       "      <td>64</td>\n",
       "      <td>24</td>\n",
       "      <td>1010</td>\n",
       "      <td>2010-01-01</td>\n",
       "    </tr>\n",
       "    <tr>\n",
       "      <th>2</th>\n",
       "      <td>Bac Lieu</td>\n",
       "      <td>29</td>\n",
       "      <td>24</td>\n",
       "      <td>14</td>\n",
       "      <td>E</td>\n",
       "      <td>0.0</td>\n",
       "      <td>75</td>\n",
       "      <td>45</td>\n",
       "      <td>1008</td>\n",
       "      <td>2011-01-01</td>\n",
       "    </tr>\n",
       "    <tr>\n",
       "      <th>3</th>\n",
       "      <td>Bac Lieu</td>\n",
       "      <td>30</td>\n",
       "      <td>24</td>\n",
       "      <td>30</td>\n",
       "      <td>E</td>\n",
       "      <td>0.0</td>\n",
       "      <td>79</td>\n",
       "      <td>52</td>\n",
       "      <td>1012</td>\n",
       "      <td>2012-01-01</td>\n",
       "    </tr>\n",
       "    <tr>\n",
       "      <th>4</th>\n",
       "      <td>Bac Lieu</td>\n",
       "      <td>31</td>\n",
       "      <td>25</td>\n",
       "      <td>20</td>\n",
       "      <td>ENE</td>\n",
       "      <td>0.0</td>\n",
       "      <td>70</td>\n",
       "      <td>24</td>\n",
       "      <td>1010</td>\n",
       "      <td>2013-01-01</td>\n",
       "    </tr>\n",
       "  </tbody>\n",
       "</table>\n",
       "</div>\n",
       "    <div class=\"colab-df-buttons\">\n",
       "\n",
       "  <div class=\"colab-df-container\">\n",
       "    <button class=\"colab-df-convert\" onclick=\"convertToInteractive('df-7fe23746-1669-4039-93cd-e25ac3bb5fd2')\"\n",
       "            title=\"Convert this dataframe to an interactive table.\"\n",
       "            style=\"display:none;\">\n",
       "\n",
       "  <svg xmlns=\"http://www.w3.org/2000/svg\" height=\"24px\" viewBox=\"0 -960 960 960\">\n",
       "    <path d=\"M120-120v-720h720v720H120Zm60-500h600v-160H180v160Zm220 220h160v-160H400v160Zm0 220h160v-160H400v160ZM180-400h160v-160H180v160Zm440 0h160v-160H620v160ZM180-180h160v-160H180v160Zm440 0h160v-160H620v160Z\"/>\n",
       "  </svg>\n",
       "    </button>\n",
       "\n",
       "  <style>\n",
       "    .colab-df-container {\n",
       "      display:flex;\n",
       "      gap: 12px;\n",
       "    }\n",
       "\n",
       "    .colab-df-convert {\n",
       "      background-color: #E8F0FE;\n",
       "      border: none;\n",
       "      border-radius: 50%;\n",
       "      cursor: pointer;\n",
       "      display: none;\n",
       "      fill: #1967D2;\n",
       "      height: 32px;\n",
       "      padding: 0 0 0 0;\n",
       "      width: 32px;\n",
       "    }\n",
       "\n",
       "    .colab-df-convert:hover {\n",
       "      background-color: #E2EBFA;\n",
       "      box-shadow: 0px 1px 2px rgba(60, 64, 67, 0.3), 0px 1px 3px 1px rgba(60, 64, 67, 0.15);\n",
       "      fill: #174EA6;\n",
       "    }\n",
       "\n",
       "    .colab-df-buttons div {\n",
       "      margin-bottom: 4px;\n",
       "    }\n",
       "\n",
       "    [theme=dark] .colab-df-convert {\n",
       "      background-color: #3B4455;\n",
       "      fill: #D2E3FC;\n",
       "    }\n",
       "\n",
       "    [theme=dark] .colab-df-convert:hover {\n",
       "      background-color: #434B5C;\n",
       "      box-shadow: 0px 1px 3px 1px rgba(0, 0, 0, 0.15);\n",
       "      filter: drop-shadow(0px 1px 2px rgba(0, 0, 0, 0.3));\n",
       "      fill: #FFFFFF;\n",
       "    }\n",
       "  </style>\n",
       "\n",
       "    <script>\n",
       "      const buttonEl =\n",
       "        document.querySelector('#df-7fe23746-1669-4039-93cd-e25ac3bb5fd2 button.colab-df-convert');\n",
       "      buttonEl.style.display =\n",
       "        google.colab.kernel.accessAllowed ? 'block' : 'none';\n",
       "\n",
       "      async function convertToInteractive(key) {\n",
       "        const element = document.querySelector('#df-7fe23746-1669-4039-93cd-e25ac3bb5fd2');\n",
       "        const dataTable =\n",
       "          await google.colab.kernel.invokeFunction('convertToInteractive',\n",
       "                                                    [key], {});\n",
       "        if (!dataTable) return;\n",
       "\n",
       "        const docLinkHtml = 'Like what you see? Visit the ' +\n",
       "          '<a target=\"_blank\" href=https://colab.research.google.com/notebooks/data_table.ipynb>data table notebook</a>'\n",
       "          + ' to learn more about interactive tables.';\n",
       "        element.innerHTML = '';\n",
       "        dataTable['output_type'] = 'display_data';\n",
       "        await google.colab.output.renderOutput(dataTable, element);\n",
       "        const docLink = document.createElement('div');\n",
       "        docLink.innerHTML = docLinkHtml;\n",
       "        element.appendChild(docLink);\n",
       "      }\n",
       "    </script>\n",
       "  </div>\n",
       "\n",
       "\n",
       "<div id=\"df-cc3ebeae-b8cb-4ee8-a180-dc82733c6c1b\">\n",
       "  <button class=\"colab-df-quickchart\" onclick=\"quickchart('df-cc3ebeae-b8cb-4ee8-a180-dc82733c6c1b')\"\n",
       "            title=\"Suggest charts\"\n",
       "            style=\"display:none;\">\n",
       "\n",
       "<svg xmlns=\"http://www.w3.org/2000/svg\" height=\"24px\"viewBox=\"0 0 24 24\"\n",
       "     width=\"24px\">\n",
       "    <g>\n",
       "        <path d=\"M19 3H5c-1.1 0-2 .9-2 2v14c0 1.1.9 2 2 2h14c1.1 0 2-.9 2-2V5c0-1.1-.9-2-2-2zM9 17H7v-7h2v7zm4 0h-2V7h2v10zm4 0h-2v-4h2v4z\"/>\n",
       "    </g>\n",
       "</svg>\n",
       "  </button>\n",
       "\n",
       "<style>\n",
       "  .colab-df-quickchart {\n",
       "      --bg-color: #E8F0FE;\n",
       "      --fill-color: #1967D2;\n",
       "      --hover-bg-color: #E2EBFA;\n",
       "      --hover-fill-color: #174EA6;\n",
       "      --disabled-fill-color: #AAA;\n",
       "      --disabled-bg-color: #DDD;\n",
       "  }\n",
       "\n",
       "  [theme=dark] .colab-df-quickchart {\n",
       "      --bg-color: #3B4455;\n",
       "      --fill-color: #D2E3FC;\n",
       "      --hover-bg-color: #434B5C;\n",
       "      --hover-fill-color: #FFFFFF;\n",
       "      --disabled-bg-color: #3B4455;\n",
       "      --disabled-fill-color: #666;\n",
       "  }\n",
       "\n",
       "  .colab-df-quickchart {\n",
       "    background-color: var(--bg-color);\n",
       "    border: none;\n",
       "    border-radius: 50%;\n",
       "    cursor: pointer;\n",
       "    display: none;\n",
       "    fill: var(--fill-color);\n",
       "    height: 32px;\n",
       "    padding: 0;\n",
       "    width: 32px;\n",
       "  }\n",
       "\n",
       "  .colab-df-quickchart:hover {\n",
       "    background-color: var(--hover-bg-color);\n",
       "    box-shadow: 0 1px 2px rgba(60, 64, 67, 0.3), 0 1px 3px 1px rgba(60, 64, 67, 0.15);\n",
       "    fill: var(--button-hover-fill-color);\n",
       "  }\n",
       "\n",
       "  .colab-df-quickchart-complete:disabled,\n",
       "  .colab-df-quickchart-complete:disabled:hover {\n",
       "    background-color: var(--disabled-bg-color);\n",
       "    fill: var(--disabled-fill-color);\n",
       "    box-shadow: none;\n",
       "  }\n",
       "\n",
       "  .colab-df-spinner {\n",
       "    border: 2px solid var(--fill-color);\n",
       "    border-color: transparent;\n",
       "    border-bottom-color: var(--fill-color);\n",
       "    animation:\n",
       "      spin 1s steps(1) infinite;\n",
       "  }\n",
       "\n",
       "  @keyframes spin {\n",
       "    0% {\n",
       "      border-color: transparent;\n",
       "      border-bottom-color: var(--fill-color);\n",
       "      border-left-color: var(--fill-color);\n",
       "    }\n",
       "    20% {\n",
       "      border-color: transparent;\n",
       "      border-left-color: var(--fill-color);\n",
       "      border-top-color: var(--fill-color);\n",
       "    }\n",
       "    30% {\n",
       "      border-color: transparent;\n",
       "      border-left-color: var(--fill-color);\n",
       "      border-top-color: var(--fill-color);\n",
       "      border-right-color: var(--fill-color);\n",
       "    }\n",
       "    40% {\n",
       "      border-color: transparent;\n",
       "      border-right-color: var(--fill-color);\n",
       "      border-top-color: var(--fill-color);\n",
       "    }\n",
       "    60% {\n",
       "      border-color: transparent;\n",
       "      border-right-color: var(--fill-color);\n",
       "    }\n",
       "    80% {\n",
       "      border-color: transparent;\n",
       "      border-right-color: var(--fill-color);\n",
       "      border-bottom-color: var(--fill-color);\n",
       "    }\n",
       "    90% {\n",
       "      border-color: transparent;\n",
       "      border-bottom-color: var(--fill-color);\n",
       "    }\n",
       "  }\n",
       "</style>\n",
       "\n",
       "  <script>\n",
       "    async function quickchart(key) {\n",
       "      const quickchartButtonEl =\n",
       "        document.querySelector('#' + key + ' button');\n",
       "      quickchartButtonEl.disabled = true;  // To prevent multiple clicks.\n",
       "      quickchartButtonEl.classList.add('colab-df-spinner');\n",
       "      try {\n",
       "        const charts = await google.colab.kernel.invokeFunction(\n",
       "            'suggestCharts', [key], {});\n",
       "      } catch (error) {\n",
       "        console.error('Error during call to suggestCharts:', error);\n",
       "      }\n",
       "      quickchartButtonEl.classList.remove('colab-df-spinner');\n",
       "      quickchartButtonEl.classList.add('colab-df-quickchart-complete');\n",
       "    }\n",
       "    (() => {\n",
       "      let quickchartButtonEl =\n",
       "        document.querySelector('#df-cc3ebeae-b8cb-4ee8-a180-dc82733c6c1b button');\n",
       "      quickchartButtonEl.style.display =\n",
       "        google.colab.kernel.accessAllowed ? 'block' : 'none';\n",
       "    })();\n",
       "  </script>\n",
       "</div>\n",
       "\n",
       "    </div>\n",
       "  </div>\n"
      ],
      "text/plain": [
       "   province  max  min  wind wind_d  rain  humidi  cloud  pressure        date\n",
       "0  Bac Lieu   27   22    17    NNE   6.9      90     71      1010  2009-01-01\n",
       "1  Bac Lieu   31   25    20    ENE   0.0      64     24      1010  2010-01-01\n",
       "2  Bac Lieu   29   24    14      E   0.0      75     45      1008  2011-01-01\n",
       "3  Bac Lieu   30   24    30      E   0.0      79     52      1012  2012-01-01\n",
       "4  Bac Lieu   31   25    20    ENE   0.0      70     24      1010  2013-01-01"
      ]
     },
     "execution_count": 50,
     "metadata": {},
     "output_type": "execute_result"
    }
   ],
   "source": [
    "df = pd.read_csv(\"/content/drive/MyDrive/Big Data Tech/Project/weather.csv\")\n",
    "df.head()"
   ]
  },
  {
   "cell_type": "code",
   "execution_count": 51,
   "metadata": {
    "executionInfo": {
     "elapsed": 14368,
     "status": "ok",
     "timestamp": 1735009404638,
     "user": {
      "displayName": "NNamTaj",
      "userId": "04579073928170218763"
     },
     "user_tz": -420
    },
    "id": "C7Kh31usX99D"
   },
   "outputs": [],
   "source": [
    "spark_df = spark.createDataFrame(df)"
   ]
  },
  {
   "cell_type": "code",
   "execution_count": 52,
   "metadata": {
    "colab": {
     "base_uri": "https://localhost:8080/"
    },
    "executionInfo": {
     "elapsed": 9,
     "status": "ok",
     "timestamp": 1735009404639,
     "user": {
      "displayName": "NNamTaj",
      "userId": "04579073928170218763"
     },
     "user_tz": -420
    },
    "id": "sOOoiBo9YTZd",
    "outputId": "bbd9033b-a140-4264-d961-de5786509438"
   },
   "outputs": [
    {
     "name": "stdout",
     "output_type": "stream",
     "text": [
      "+--------+---+---+----+------+----+------+-----+--------+----------+\n",
      "|province|max|min|wind|wind_d|rain|humidi|cloud|pressure|      date|\n",
      "+--------+---+---+----+------+----+------+-----+--------+----------+\n",
      "|Bac Lieu| 27| 22|  17|   NNE| 6.9|    90|   71|    1010|2009-01-01|\n",
      "|Bac Lieu| 31| 25|  20|   ENE| 0.0|    64|   24|    1010|2010-01-01|\n",
      "|Bac Lieu| 29| 24|  14|     E| 0.0|    75|   45|    1008|2011-01-01|\n",
      "|Bac Lieu| 30| 24|  30|     E| 0.0|    79|   52|    1012|2012-01-01|\n",
      "|Bac Lieu| 31| 25|  20|   ENE| 0.0|    70|   24|    1010|2013-01-01|\n",
      "|Bac Lieu| 28| 23|  14|   ENE| 0.0|    75|   55|    1012|2014-01-01|\n",
      "|Bac Lieu| 29| 23|  10|   ENE| 0.4|    75|   42|    1012|2015-01-01|\n",
      "|Bac Lieu| 32| 24|  22|   ENE| 0.0|    63|    9|    1015|2016-01-01|\n",
      "|Bac Lieu| 30| 24|  20|   ENE| 0.5|    76|   35|    1011|2017-01-01|\n",
      "|Bac Lieu| 29| 23|  16|     E| 0.0|    70|   33|    1010|2018-01-01|\n",
      "|Bac Lieu| 27| 22|  19|   WSW| 4.5|    73|   55|    1012|2019-01-01|\n",
      "|Bac Lieu| 32| 23|  22|   ENE| 0.0|    61|    9|    1014|2020-01-01|\n",
      "|Bac Lieu| 28| 21|   9|   WSW| 0.0|    74|   48|    1011|2021-01-01|\n",
      "|Bac Lieu| 28| 21|  12|   ENE| 0.0|    74|   26|    1014|2009-01-09|\n",
      "|Bac Lieu| 31| 25|  20|     E| 0.6|    68|   29|    1011|2010-01-09|\n",
      "|Bac Lieu| 31| 23|  16|     E| 0.0|    69|   27|    1009|2011-01-09|\n",
      "|Bac Lieu| 30| 24|  17|     E| 0.5|    73|   58|    1011|2012-01-09|\n",
      "|Bac Lieu| 30| 25|   6|   SSE|11.5|    81|   48|    1009|2013-01-09|\n",
      "|Bac Lieu| 25| 23|  21|     E| 2.5|    79|   71|    1011|2014-01-09|\n",
      "|Bac Lieu| 31| 24|  23|   ENE| 0.0|    71|   17|    1012|2015-01-09|\n",
      "+--------+---+---+----+------+----+------+-----+--------+----------+\n",
      "only showing top 20 rows\n",
      "\n"
     ]
    }
   ],
   "source": [
    "spark_df.show()"
   ]
  },
  {
   "cell_type": "code",
   "execution_count": 53,
   "metadata": {
    "colab": {
     "base_uri": "https://localhost:8080/"
    },
    "executionInfo": {
     "elapsed": 1288,
     "status": "ok",
     "timestamp": 1735009405921,
     "user": {
      "displayName": "NNamTaj",
      "userId": "04579073928170218763"
     },
     "user_tz": -420
    },
    "id": "nO-sVA4Z6Dvd",
    "outputId": "c464b57b-c11c-41cf-cba6-018c9fc43eab"
   },
   "outputs": [
    {
     "name": "stdout",
     "output_type": "stream",
     "text": [
      "+----------------+---+---+----+------+----+------+-----+--------+----------+\n",
      "|        province|max|min|wind|wind_d|rain|humidi|cloud|pressure|      date|\n",
      "+----------------+---+---+----+------+----+------+-----+--------+----------+\n",
      "|Ho Chi Minh City| 29| 22|   6|    SE|18.5|    89|   68|    1010|2009-01-01|\n",
      "|Ho Chi Minh City| 34| 24|   5|     E| 0.0|    59|   20|    1010|2010-01-01|\n",
      "|Ho Chi Minh City| 29| 23|   4|     S| 0.2|    81|   42|    1008|2011-01-01|\n",
      "|Ho Chi Minh City| 32| 23|   7|     E| 1.8|    76|   35|    1012|2012-01-01|\n",
      "|Ho Chi Minh City| 33| 24|   4|    SE| 0.0|    69|   15|    1010|2013-01-01|\n",
      "|Ho Chi Minh City| 29| 21|   5|   SSW| 0.0|    72|   29|    1012|2014-01-01|\n",
      "|Ho Chi Minh City| 31| 22|   5|   SSE| 0.2|    72|   30|    1012|2015-01-01|\n",
      "|Ho Chi Minh City| 34| 23|   7|   ENE| 0.0|    57|    8|    1015|2016-01-01|\n",
      "|Ho Chi Minh City| 32| 24|   7|    NE| 1.9|    74|   28|    1011|2017-01-01|\n",
      "|Ho Chi Minh City| 33| 23|   5|     E| 0.0|    59|   19|    1010|2018-01-01|\n",
      "|Ho Chi Minh City| 29| 24|  17|   NNE| 3.3|    66|   51|    1013|2019-01-01|\n",
      "|Ho Chi Minh City| 35| 24|   9|   ENE| 0.0|    51|   11|    1014|2020-01-01|\n",
      "|Ho Chi Minh City| 30| 23|   8|    NE| 0.0|    63|   35|    1011|2021-01-01|\n",
      "|Ho Chi Minh City| 25| 22|   6|     E| 7.2|    87|   68|    1012|2009-01-03|\n",
      "|Ho Chi Minh City| 33| 26|   7|   ESE| 0.0|    65|   37|    1010|2010-01-03|\n",
      "|Ho Chi Minh City| 33| 23|   4|   SSE| 0.1|    73|   51|    1009|2011-01-03|\n",
      "|Ho Chi Minh City| 30| 23|   6|    SE| 0.1|    79|   43|    1012|2012-01-03|\n",
      "|Ho Chi Minh City| 34| 25|   3|   SSE| 5.2|    68|   27|    1011|2013-01-03|\n",
      "|Ho Chi Minh City| 32| 22|   5|    SW| 0.0|    74|   15|    1012|2014-01-03|\n",
      "|Ho Chi Minh City| 32| 22|   6|   SSW| 0.0|    67|   25|    1012|2015-01-03|\n",
      "+----------------+---+---+----+------+----+------+-----+--------+----------+\n",
      "only showing top 20 rows\n",
      "\n"
     ]
    }
   ],
   "source": [
    "hochiminh_df = spark_df.filter(spark_df.province == \"Ho Chi Minh City\")\n",
    "\n",
    "# Show the selected data\n",
    "hochiminh_df.show()"
   ]
  },
  {
   "cell_type": "code",
   "execution_count": 54,
   "metadata": {
    "colab": {
     "base_uri": "https://localhost:8080/"
    },
    "executionInfo": {
     "elapsed": 17,
     "status": "ok",
     "timestamp": 1735009405922,
     "user": {
      "displayName": "NNamTaj",
      "userId": "04579073928170218763"
     },
     "user_tz": -420
    },
    "id": "QFnlN7VAg7wD",
    "outputId": "5428191d-bb78-45af-edcf-c81cfc334e19"
   },
   "outputs": [
    {
     "name": "stdout",
     "output_type": "stream",
     "text": [
      "root\n",
      " |-- province: string (nullable = true)\n",
      " |-- max: long (nullable = true)\n",
      " |-- min: long (nullable = true)\n",
      " |-- wind: long (nullable = true)\n",
      " |-- wind_d: string (nullable = true)\n",
      " |-- rain: double (nullable = true)\n",
      " |-- humidi: long (nullable = true)\n",
      " |-- cloud: long (nullable = true)\n",
      " |-- pressure: long (nullable = true)\n",
      " |-- date: string (nullable = true)\n",
      "\n"
     ]
    }
   ],
   "source": [
    "hochiminh_df.printSchema()"
   ]
  },
  {
   "cell_type": "code",
   "execution_count": 55,
   "metadata": {
    "colab": {
     "base_uri": "https://localhost:8080/"
    },
    "executionInfo": {
     "elapsed": 13,
     "status": "ok",
     "timestamp": 1735009405922,
     "user": {
      "displayName": "NNamTaj",
      "userId": "04579073928170218763"
     },
     "user_tz": -420
    },
    "id": "oU8GiaRBg-0C",
    "outputId": "7d2b9b55-6a73-4999-b7e6-eda1f88eee16"
   },
   "outputs": [
    {
     "data": {
      "text/plain": [
       "['province',\n",
       " 'max',\n",
       " 'min',\n",
       " 'wind',\n",
       " 'wind_d',\n",
       " 'rain',\n",
       " 'humidi',\n",
       " 'cloud',\n",
       " 'pressure',\n",
       " 'date']"
      ]
     },
     "execution_count": 55,
     "metadata": {},
     "output_type": "execute_result"
    }
   ],
   "source": [
    "hochiminh_df.columns"
   ]
  },
  {
   "cell_type": "code",
   "execution_count": 56,
   "metadata": {
    "colab": {
     "base_uri": "https://localhost:8080/"
    },
    "executionInfo": {
     "elapsed": 9,
     "status": "ok",
     "timestamp": 1735009405922,
     "user": {
      "displayName": "NNamTaj",
      "userId": "04579073928170218763"
     },
     "user_tz": -420
    },
    "id": "wqirgJxxucvm",
    "outputId": "044a7a1c-d99b-4f00-eb15-55e08ac25bba"
   },
   "outputs": [
    {
     "name": "stdout",
     "output_type": "stream",
     "text": [
      "+---+---+----+----+------+-----+--------+----------+\n",
      "|max|min|wind|rain|humidi|cloud|pressure|      date|\n",
      "+---+---+----+----+------+-----+--------+----------+\n",
      "| 29| 22|   6|18.5|    89|   68|    1010|2009-01-01|\n",
      "| 34| 24|   5| 0.0|    59|   20|    1010|2010-01-01|\n",
      "| 29| 23|   4| 0.2|    81|   42|    1008|2011-01-01|\n",
      "| 32| 23|   7| 1.8|    76|   35|    1012|2012-01-01|\n",
      "| 33| 24|   4| 0.0|    69|   15|    1010|2013-01-01|\n",
      "| 29| 21|   5| 0.0|    72|   29|    1012|2014-01-01|\n",
      "| 31| 22|   5| 0.2|    72|   30|    1012|2015-01-01|\n",
      "| 34| 23|   7| 0.0|    57|    8|    1015|2016-01-01|\n",
      "| 32| 24|   7| 1.9|    74|   28|    1011|2017-01-01|\n",
      "| 33| 23|   5| 0.0|    59|   19|    1010|2018-01-01|\n",
      "| 29| 24|  17| 3.3|    66|   51|    1013|2019-01-01|\n",
      "| 35| 24|   9| 0.0|    51|   11|    1014|2020-01-01|\n",
      "| 30| 23|   8| 0.0|    63|   35|    1011|2021-01-01|\n",
      "| 25| 22|   6| 7.2|    87|   68|    1012|2009-01-03|\n",
      "| 33| 26|   7| 0.0|    65|   37|    1010|2010-01-03|\n",
      "| 33| 23|   4| 0.1|    73|   51|    1009|2011-01-03|\n",
      "| 30| 23|   6| 0.1|    79|   43|    1012|2012-01-03|\n",
      "| 34| 25|   3| 5.2|    68|   27|    1011|2013-01-03|\n",
      "| 32| 22|   5| 0.0|    74|   15|    1012|2014-01-03|\n",
      "| 32| 22|   6| 0.0|    67|   25|    1012|2015-01-03|\n",
      "+---+---+----+----+------+-----+--------+----------+\n",
      "only showing top 20 rows\n",
      "\n"
     ]
    }
   ],
   "source": [
    "hochiminh_df = hochiminh_df.drop('province', 'wind_d')\n",
    "hochiminh_df.show()"
   ]
  },
  {
   "cell_type": "code",
   "execution_count": 57,
   "metadata": {
    "colab": {
     "base_uri": "https://localhost:8080/"
    },
    "executionInfo": {
     "elapsed": 1855,
     "status": "ok",
     "timestamp": 1735009407772,
     "user": {
      "displayName": "NNamTaj",
      "userId": "04579073928170218763"
     },
     "user_tz": -420
    },
    "id": "CW9Jry9lJ0wC",
    "outputId": "acafb931-aef3-41bf-ffcc-e156f53887a5"
   },
   "outputs": [
    {
     "name": "stdout",
     "output_type": "stream",
     "text": [
      "+-------+------------------+------------------+-----------------+-----------------+------------------+------------------+------------------+----------+\n",
      "|summary|               max|               min|             wind|             rain|            humidi|             cloud|          pressure|      date|\n",
      "+-------+------------------+------------------+-----------------+-----------------+------------------+------------------+------------------+----------+\n",
      "|  count|              4549|              4549|             4549|             4549|              4549|              4549|              4549|      4549|\n",
      "|   mean| 32.99230600131897|25.163992086172787|9.224225104418554|7.798395251703649| 73.90899098703012| 36.26489338316114|1009.2901736645416|      NULL|\n",
      "| stddev|2.5065758156719014| 1.654108042935348|3.399431195420073|11.08143417794139|10.388731995662969|18.151818729569136|2.0931984949000455|      NULL|\n",
      "|    min|                22|                16|                2|              0.0|                45|                 0|              1002|2009-01-01|\n",
      "|    max|                41|                30|               26|            253.3|                97|                99|              1017|2021-06-18|\n",
      "+-------+------------------+------------------+-----------------+-----------------+------------------+------------------+------------------+----------+\n",
      "\n"
     ]
    }
   ],
   "source": [
    "hochiminh_df.describe().show()"
   ]
  },
  {
   "cell_type": "code",
   "execution_count": 58,
   "metadata": {
    "colab": {
     "base_uri": "https://localhost:8080/"
    },
    "executionInfo": {
     "elapsed": 407,
     "status": "ok",
     "timestamp": 1735009408173,
     "user": {
      "displayName": "NNamTaj",
      "userId": "04579073928170218763"
     },
     "user_tz": -420
    },
    "id": "_D4WMXKFIkjY",
    "outputId": "11ad07dc-43f9-409f-de4a-a4eb9c86808f"
   },
   "outputs": [
    {
     "name": "stdout",
     "output_type": "stream",
     "text": [
      "+---+---+----+----+------+-----+--------+----------+----+\n",
      "|max|min|wind|rain|humidi|cloud|pressure|      date|temp|\n",
      "+---+---+----+----+------+-----+--------+----------+----+\n",
      "| 29| 22|   6|18.5|    89|   68|    1010|2009-01-01|37.0|\n",
      "| 34| 24|   5| 0.0|    59|   20|    1010|2010-01-01|33.0|\n",
      "| 29| 23|   4| 0.2|    81|   42|    1008|2011-01-01|35.0|\n",
      "| 32| 23|   7| 1.8|    76|   35|    1012|2012-01-01|34.0|\n",
      "| 33| 24|   4| 0.0|    69|   15|    1010|2013-01-01|32.0|\n",
      "| 29| 21|   5| 0.0|    72|   29|    1012|2014-01-01|31.0|\n",
      "| 31| 22|   5| 0.2|    72|   30|    1012|2015-01-01|33.0|\n",
      "| 34| 23|   7| 0.0|    57|    8|    1015|2016-01-01|30.0|\n",
      "| 32| 24|   7| 1.9|    74|   28|    1011|2017-01-01|33.0|\n",
      "| 33| 23|   5| 0.0|    59|   19|    1010|2018-01-01|32.0|\n",
      "| 29| 24|  17| 3.3|    66|   51|    1013|2019-01-01|35.0|\n",
      "| 35| 24|   9| 0.0|    51|   11|    1014|2020-01-01|31.0|\n",
      "| 30| 23|   8| 0.0|    63|   35|    1011|2021-01-01|33.0|\n",
      "| 25| 22|   6| 7.2|    87|   68|    1012|2009-01-03|36.0|\n",
      "| 33| 26|   7| 0.0|    65|   37|    1010|2010-01-03|37.0|\n",
      "| 33| 23|   4| 0.1|    73|   51|    1009|2011-01-03|38.0|\n",
      "| 30| 23|   6| 0.1|    79|   43|    1012|2012-01-03|35.0|\n",
      "| 34| 25|   3| 5.2|    68|   27|    1011|2013-01-03|34.0|\n",
      "| 32| 22|   5| 0.0|    74|   15|    1012|2014-01-03|30.0|\n",
      "| 32| 22|   6| 0.0|    67|   25|    1012|2015-01-03|32.0|\n",
      "+---+---+----+----+------+-----+--------+----------+----+\n",
      "only showing top 20 rows\n",
      "\n"
     ]
    }
   ],
   "source": [
    "from pyspark.sql.functions import udf, col, when\n",
    "import pyspark.sql.types as T\n",
    "import math\n",
    "\n",
    "def estimate_temperature(T_min, T_max, RH, WS, CC, R, P, day_progression_weight = 0.5):\n",
    "    \"\"\"\n",
    "    Estimate the current temperature without time information.\n",
    "\n",
    "    Parameters:\n",
    "        T_min (float): Minimum temperature (°C)\n",
    "        T_max (float): Maximum temperature (°C)\n",
    "        RH (float): Relative humidity (%)\n",
    "        WS (float): Wind speed (km/h)\n",
    "        CC (float): Cloud cover (%)\n",
    "        R (float): Rainfall (mm)\n",
    "        P (float): Pressure (hPa)\n",
    "        day_progression_weight (float): Assumed progression of the day (0.0 = morning, 1.0 = evening)\n",
    "\n",
    "    Returns:\n",
    "        float: Estimated current temperature (°C)\n",
    "    \"\"\"\n",
    "    # Constants for adjustment factors\n",
    "    alpha = 0.02  # Humidity factor\n",
    "    beta = 0.6    # Wind factor\n",
    "    gamma = 0.2   # Cloud cover factor\n",
    "    delta = 0.15  # Rainfall factor\n",
    "    epsilon = 0.02  # Pressure factor\n",
    "\n",
    "    # Base temperature using weighted progression between T_min and T_max\n",
    "    T_baseline = T_min + day_progression_weight * (T_max - T_min)\n",
    "\n",
    "    # Adjustments based on environmental factors\n",
    "    T_current = T_baseline\n",
    "    T_current += alpha * RH                     # Humidity adjustment\n",
    "    T_current -= beta * math.sqrt(WS)           # Wind speed adjustment\n",
    "    T_current += gamma * CC                     # Cloud cover adjustment\n",
    "    T_current -= delta * R                      # Rainfall adjustment\n",
    "    T_current += epsilon * (P - 1013)           # Pressure adjustment\n",
    "\n",
    "    return T_current\n",
    "\n",
    "\n",
    "# Create UDFs\n",
    "estimate_temperature_udf = udf(estimate_temperature, T.DoubleType())\n",
    "\n",
    "from pyspark.sql.functions import round\n",
    "# Apply UDFs and add calculated columns\n",
    "hochiminh_df = hochiminh_df.withColumn(\n",
    "    \"temp\",\n",
    "    round(estimate_temperature_udf(\n",
    "        col(\"min\"),\n",
    "        col(\"max\"),\n",
    "        col(\"humidi\"),\n",
    "        col(\"wind\"),\n",
    "        col(\"cloud\"),\n",
    "        col(\"rain\"),\n",
    "        col(\"pressure\"))\n",
    "    ),\n",
    ")\n",
    "hochiminh_df.show()"
   ]
  },
  {
   "cell_type": "markdown",
   "metadata": {
    "id": "XsGfembFvQPk"
   },
   "source": [
    "#Handle missing value"
   ]
  },
  {
   "cell_type": "code",
   "execution_count": 59,
   "metadata": {
    "colab": {
     "base_uri": "https://localhost:8080/"
    },
    "executionInfo": {
     "elapsed": 1161,
     "status": "ok",
     "timestamp": 1735009409331,
     "user": {
      "displayName": "NNamTaj",
      "userId": "04579073928170218763"
     },
     "user_tz": -420
    },
    "id": "R5JKqekisi4o",
    "outputId": "a7d9dbf8-8f07-4dd7-b10c-ef7df7682ff7"
   },
   "outputs": [
    {
     "name": "stdout",
     "output_type": "stream",
     "text": [
      "+---+---+----+----+------+-----+--------+----------+----+\n",
      "|max|min|wind|rain|humidi|cloud|pressure|      date|temp|\n",
      "+---+---+----+----+------+-----+--------+----------+----+\n",
      "| 29| 22|   6|18.5|    89|   68|    1010|2009-01-01|37.0|\n",
      "| 34| 24|   5| 0.0|    59|   20|    1010|2010-01-01|33.0|\n",
      "| 29| 23|   4| 0.2|    81|   42|    1008|2011-01-01|35.0|\n",
      "| 32| 23|   7| 1.8|    76|   35|    1012|2012-01-01|34.0|\n",
      "| 33| 24|   4| 0.0|    69|   15|    1010|2013-01-01|32.0|\n",
      "| 29| 21|   5| 0.0|    72|   29|    1012|2014-01-01|31.0|\n",
      "| 31| 22|   5| 0.2|    72|   30|    1012|2015-01-01|33.0|\n",
      "| 34| 23|   7| 0.0|    57|    8|    1015|2016-01-01|30.0|\n",
      "| 32| 24|   7| 1.9|    74|   28|    1011|2017-01-01|33.0|\n",
      "| 33| 23|   5| 0.0|    59|   19|    1010|2018-01-01|32.0|\n",
      "| 29| 24|  17| 3.3|    66|   51|    1013|2019-01-01|35.0|\n",
      "| 35| 24|   9| 0.0|    51|   11|    1014|2020-01-01|31.0|\n",
      "| 30| 23|   8| 0.0|    63|   35|    1011|2021-01-01|33.0|\n",
      "| 25| 22|   6| 7.2|    87|   68|    1012|2009-01-03|36.0|\n",
      "| 33| 26|   7| 0.0|    65|   37|    1010|2010-01-03|37.0|\n",
      "| 33| 23|   4| 0.1|    73|   51|    1009|2011-01-03|38.0|\n",
      "| 30| 23|   6| 0.1|    79|   43|    1012|2012-01-03|35.0|\n",
      "| 34| 25|   3| 5.2|    68|   27|    1011|2013-01-03|34.0|\n",
      "| 32| 22|   5| 0.0|    74|   15|    1012|2014-01-03|30.0|\n",
      "| 32| 22|   6| 0.0|    67|   25|    1012|2015-01-03|32.0|\n",
      "+---+---+----+----+------+-----+--------+----------+----+\n",
      "only showing top 20 rows\n",
      "\n"
     ]
    }
   ],
   "source": [
    "hochiminh_df = hochiminh_df.na.drop()\n",
    "hochiminh_df.show()"
   ]
  },
  {
   "cell_type": "code",
   "execution_count": 60,
   "metadata": {
    "colab": {
     "base_uri": "https://localhost:8080/"
    },
    "executionInfo": {
     "elapsed": 5779,
     "status": "ok",
     "timestamp": 1735009415105,
     "user": {
      "displayName": "NNamTaj",
      "userId": "04579073928170218763"
     },
     "user_tz": -420
    },
    "id": "q8IRaDWWHdWq",
    "outputId": "f641bcaa-fae6-47d8-860f-4e8773c09532"
   },
   "outputs": [
    {
     "name": "stdout",
     "output_type": "stream",
     "text": [
      "+---+---+----+----+------+-----+--------+----------+----+\n",
      "|max|min|wind|rain|humidi|cloud|pressure|      date|temp|\n",
      "+---+---+----+----+------+-----+--------+----------+----+\n",
      "| 29| 22|   6|18.5|    89|   68|    1010|2009-01-01|37.0|\n",
      "| 34| 24|   5| 0.0|    59|   20|    1010|2010-01-01|33.0|\n",
      "| 29| 23|   4| 0.2|    81|   42|    1008|2011-01-01|35.0|\n",
      "| 32| 23|   7| 1.8|    76|   35|    1012|2012-01-01|34.0|\n",
      "| 33| 24|   4| 0.0|    69|   15|    1010|2013-01-01|32.0|\n",
      "| 29| 21|   5| 0.0|    72|   29|    1012|2014-01-01|31.0|\n",
      "| 31| 22|   5| 0.2|    72|   30|    1012|2015-01-01|33.0|\n",
      "| 34| 23|   7| 0.0|    57|    8|    1015|2016-01-01|30.0|\n",
      "| 32| 24|   7| 1.9|    74|   28|    1011|2017-01-01|33.0|\n",
      "| 33| 23|   5| 0.0|    59|   19|    1010|2018-01-01|32.0|\n",
      "| 29| 24|  17| 3.3|    66|   51|    1013|2019-01-01|35.0|\n",
      "| 35| 24|   9| 0.0|    51|   11|    1014|2020-01-01|31.0|\n",
      "| 30| 23|   8| 0.0|    63|   35|    1011|2021-01-01|33.0|\n",
      "| 25| 22|   6| 7.2|    87|   68|    1012|2009-01-03|36.0|\n",
      "| 33| 26|   7| 0.0|    65|   37|    1010|2010-01-03|37.0|\n",
      "| 33| 23|   4| 0.1|    73|   51|    1009|2011-01-03|38.0|\n",
      "| 30| 23|   6| 0.1|    79|   43|    1012|2012-01-03|35.0|\n",
      "| 34| 25|   3| 5.2|    68|   27|    1011|2013-01-03|34.0|\n",
      "| 32| 22|   5| 0.0|    74|   15|    1012|2014-01-03|30.0|\n",
      "| 32| 22|   6| 0.0|    67|   25|    1012|2015-01-03|32.0|\n",
      "+---+---+----+----+------+-----+--------+----------+----+\n",
      "only showing top 20 rows\n",
      "\n"
     ]
    }
   ],
   "source": [
    "# #Handle missing value\n",
    "# Fill missing values with the mean\n",
    "for col_name in hochiminh_df.columns:\n",
    "    if hochiminh_df.select(col(col_name)).dtypes[0][1] == 'double':\n",
    "        mean_val = hochiminh_df.select(col_name).agg({\"*\":\"avg\"}).collect()[0][0]\n",
    "        hochiminh_df = hochiminh_df.fillna(mean_val, subset=[col_name])\n",
    "\n",
    "hochiminh_df.show()"
   ]
  },
  {
   "cell_type": "markdown",
   "metadata": {
    "id": "G1tYSkla1FYw"
   },
   "source": [
    "#Train Model\n"
   ]
  },
  {
   "cell_type": "code",
   "execution_count": 61,
   "metadata": {
    "executionInfo": {
     "elapsed": 10,
     "status": "ok",
     "timestamp": 1735009415105,
     "user": {
      "displayName": "NNamTaj",
      "userId": "04579073928170218763"
     },
     "user_tz": -420
    },
    "id": "ZKUQ_JJH8K04"
   },
   "outputs": [],
   "source": [
    "from pyspark.ml import Pipeline\n",
    "from pyspark.ml.classification import DecisionTreeClassifier, MultilayerPerceptronClassificationModel\n",
    "\n",
    "from pyspark.ml.feature import Binarizer\n",
    "from pyspark.ml.feature import VectorAssembler, StringIndexer, VectorIndexer"
   ]
  },
  {
   "cell_type": "code",
   "execution_count": 62,
   "metadata": {
    "colab": {
     "base_uri": "https://localhost:8080/"
    },
    "collapsed": true,
    "executionInfo": {
     "elapsed": 9,
     "status": "ok",
     "timestamp": 1735009415105,
     "user": {
      "displayName": "NNamTaj",
      "userId": "04579073928170218763"
     },
     "user_tz": -420
    },
    "id": "UOzRXFFdeQCF",
    "outputId": "4c0c5280-54c5-4b01-8f30-7039d500f949"
   },
   "outputs": [
    {
     "data": {
      "text/plain": [
       "['max', 'min', 'wind', 'rain', 'humidi', 'cloud', 'pressure']"
      ]
     },
     "execution_count": 62,
     "metadata": {},
     "output_type": "execute_result"
    }
   ],
   "source": [
    "features_columns = ['max', 'min', 'wind', 'rain', 'humidi', 'cloud', 'pressure']\n",
    "features_columns"
   ]
  },
  {
   "cell_type": "code",
   "execution_count": 63,
   "metadata": {
    "executionInfo": {
     "elapsed": 6,
     "status": "ok",
     "timestamp": 1735009415105,
     "user": {
      "displayName": "NNamTaj",
      "userId": "04579073928170218763"
     },
     "user_tz": -420
    },
    "id": "RcVvulczZVsX"
   },
   "outputs": [],
   "source": [
    "assembler = VectorAssembler(inputCols=features_columns, outputCol=\"features\")"
   ]
  },
  {
   "cell_type": "code",
   "execution_count": 64,
   "metadata": {
    "colab": {
     "base_uri": "https://localhost:8080/"
    },
    "executionInfo": {
     "elapsed": 1623,
     "status": "ok",
     "timestamp": 1735009416723,
     "user": {
      "displayName": "NNamTaj",
      "userId": "04579073928170218763"
     },
     "user_tz": -420
    },
    "id": "XkJE72t9Zkj3",
    "outputId": "ac3c8b3a-fd35-41d9-feb0-2c86c9df085a"
   },
   "outputs": [
    {
     "name": "stdout",
     "output_type": "stream",
     "text": [
      "+--------------------+----+\n",
      "|            features|temp|\n",
      "+--------------------+----+\n",
      "|[29.0,22.0,6.0,18...|37.0|\n",
      "|[34.0,24.0,5.0,0....|33.0|\n",
      "|[29.0,23.0,4.0,0....|35.0|\n",
      "|[32.0,23.0,7.0,1....|34.0|\n",
      "|[33.0,24.0,4.0,0....|32.0|\n",
      "|[29.0,21.0,5.0,0....|31.0|\n",
      "|[31.0,22.0,5.0,0....|33.0|\n",
      "|[34.0,23.0,7.0,0....|30.0|\n",
      "|[32.0,24.0,7.0,1....|33.0|\n",
      "|[33.0,23.0,5.0,0....|32.0|\n",
      "|[29.0,24.0,17.0,3...|35.0|\n",
      "|[35.0,24.0,9.0,0....|31.0|\n",
      "|[30.0,23.0,8.0,0....|33.0|\n",
      "|[25.0,22.0,6.0,7....|36.0|\n",
      "|[33.0,26.0,7.0,0....|37.0|\n",
      "|[33.0,23.0,4.0,0....|38.0|\n",
      "|[30.0,23.0,6.0,0....|35.0|\n",
      "|[34.0,25.0,3.0,5....|34.0|\n",
      "|[32.0,22.0,5.0,0....|30.0|\n",
      "|[32.0,22.0,6.0,0....|32.0|\n",
      "+--------------------+----+\n",
      "only showing top 20 rows\n",
      "\n"
     ]
    }
   ],
   "source": [
    "data_prep = assembler.transform(hochiminh_df).select(\"features\", \"temp\")\n",
    "data_prep.show()"
   ]
  },
  {
   "cell_type": "code",
   "execution_count": 65,
   "metadata": {
    "executionInfo": {
     "elapsed": 8,
     "status": "ok",
     "timestamp": 1735009416723,
     "user": {
      "displayName": "NNamTaj",
      "userId": "04579073928170218763"
     },
     "user_tz": -420
    },
    "id": "8B5An3aQaos7"
   },
   "outputs": [],
   "source": [
    "train, test = data_prep.randomSplit([0.8, 0.2], seed = 1234)"
   ]
  },
  {
   "cell_type": "code",
   "execution_count": 66,
   "metadata": {
    "executionInfo": {
     "elapsed": 8,
     "status": "ok",
     "timestamp": 1735009416724,
     "user": {
      "displayName": "NNamTaj",
      "userId": "04579073928170218763"
     },
     "user_tz": -420
    },
    "id": "nHm4bD9zhzLt"
   },
   "outputs": [],
   "source": [
    "from pyspark.ml.regression import DecisionTreeRegressor\n",
    "dt = DecisionTreeRegressor(featuresCol=\"features\", labelCol=\"temp\")"
   ]
  },
  {
   "cell_type": "code",
   "execution_count": 67,
   "metadata": {
    "executionInfo": {
     "elapsed": 8634,
     "status": "ok",
     "timestamp": 1735009425351,
     "user": {
      "displayName": "NNamTaj",
      "userId": "04579073928170218763"
     },
     "user_tz": -420
    },
    "id": "v6yc61k_ilEW"
   },
   "outputs": [],
   "source": [
    "pipeline = Pipeline(stages=[dt])\n",
    "model = pipeline.fit(train)"
   ]
  },
  {
   "cell_type": "code",
   "execution_count": 68,
   "metadata": {
    "colab": {
     "base_uri": "https://localhost:8080/"
    },
    "executionInfo": {
     "elapsed": 1305,
     "status": "ok",
     "timestamp": 1735009426651,
     "user": {
      "displayName": "NNamTaj",
      "userId": "04579073928170218763"
     },
     "user_tz": -420
    },
    "id": "8YrYZeKiiyU3",
    "outputId": "19f1016c-3cc9-4b29-c34e-9fd87ccb68f8"
   },
   "outputs": [
    {
     "name": "stdout",
     "output_type": "stream",
     "text": [
      "+--------------------+----+------------------+\n",
      "|            features|temp|        prediction|\n",
      "+--------------------+----+------------------+\n",
      "|[22.0,22.0,10.0,0...|24.0|27.972972972972972|\n",
      "|[24.0,22.0,12.0,2...|34.0| 36.59440559440559|\n",
      "|[25.0,24.0,8.0,37...|35.0| 33.94444444444444|\n",
      "|[25.0,24.0,14.0,5...|36.0| 33.94444444444444|\n",
      "|[25.0,24.0,16.0,1...|21.0| 33.94444444444444|\n",
      "|[26.0,16.0,13.0,5...|30.0| 33.94444444444444|\n",
      "|[26.0,18.0,16.0,2...|36.0|39.247368421052634|\n",
      "|[26.0,23.0,13.0,5...|33.0| 33.94444444444444|\n",
      "|[26.0,24.0,15.0,2...|39.0| 36.59440559440559|\n",
      "|[26.0,24.0,17.0,1...|34.0|39.247368421052634|\n",
      "|[26.0,25.0,7.0,41...|35.0| 33.94444444444444|\n",
      "|[26.0,25.0,19.0,3...|37.0| 33.94444444444444|\n",
      "|[27.0,21.0,6.0,15...|34.0|39.247368421052634|\n",
      "|[27.0,21.0,9.0,4....|30.0|  34.1578947368421|\n",
      "|[27.0,23.0,8.0,15...|37.0|39.247368421052634|\n",
      "|[27.0,23.0,10.0,2...|34.0| 36.59440559440559|\n",
      "|[27.0,24.0,10.0,1...|36.0|39.247368421052634|\n",
      "|[27.0,24.0,10.0,3...|36.0| 33.94444444444444|\n",
      "|[27.0,24.0,11.0,2...|32.0| 36.59440559440559|\n",
      "|[27.0,24.0,15.0,1...|33.0| 35.68876080691643|\n",
      "+--------------------+----+------------------+\n",
      "only showing top 20 rows\n",
      "\n"
     ]
    }
   ],
   "source": [
    "predictions = model.transform(test)\n",
    "predictions.show()"
   ]
  },
  {
   "cell_type": "code",
   "execution_count": 91,
   "metadata": {
    "colab": {
     "base_uri": "https://localhost:8080/"
    },
    "executionInfo": {
     "elapsed": 2869,
     "status": "ok",
     "timestamp": 1735009601401,
     "user": {
      "displayName": "NNamTaj",
      "userId": "04579073928170218763"
     },
     "user_tz": -420
    },
    "id": "SkRP41_en0YX",
    "outputId": "237aa972-a9cb-4a88-90b3-da14548ac774"
   },
   "outputs": [
    {
     "name": "stdout",
     "output_type": "stream",
     "text": [
      "+--------------------+----+------------------+------------------+\n",
      "|            features|temp|        prediction|rounded_prediction|\n",
      "+--------------------+----+------------------+------------------+\n",
      "|[22.0,22.0,10.0,0...|24.0|27.972972972972972|              28.0|\n",
      "|[24.0,22.0,12.0,2...|34.0| 36.59440559440559|              37.0|\n",
      "|[25.0,24.0,8.0,37...|35.0| 33.94444444444444|              34.0|\n",
      "|[25.0,24.0,14.0,5...|36.0| 33.94444444444444|              34.0|\n",
      "|[25.0,24.0,16.0,1...|21.0| 33.94444444444444|              34.0|\n",
      "|[26.0,16.0,13.0,5...|30.0| 33.94444444444444|              34.0|\n",
      "|[26.0,18.0,16.0,2...|36.0|39.247368421052634|              39.0|\n",
      "|[26.0,23.0,13.0,5...|33.0| 33.94444444444444|              34.0|\n",
      "|[26.0,24.0,15.0,2...|39.0| 36.59440559440559|              37.0|\n",
      "|[26.0,24.0,17.0,1...|34.0|39.247368421052634|              39.0|\n",
      "|[26.0,25.0,7.0,41...|35.0| 33.94444444444444|              34.0|\n",
      "|[26.0,25.0,19.0,3...|37.0| 33.94444444444444|              34.0|\n",
      "|[27.0,21.0,6.0,15...|34.0|39.247368421052634|              39.0|\n",
      "|[27.0,21.0,9.0,4....|30.0|  34.1578947368421|              34.0|\n",
      "|[27.0,23.0,8.0,15...|37.0|39.247368421052634|              39.0|\n",
      "|[27.0,23.0,10.0,2...|34.0| 36.59440559440559|              37.0|\n",
      "|[27.0,24.0,10.0,1...|36.0|39.247368421052634|              39.0|\n",
      "|[27.0,24.0,10.0,3...|36.0| 33.94444444444444|              34.0|\n",
      "|[27.0,24.0,11.0,2...|32.0| 36.59440559440559|              37.0|\n",
      "|[27.0,24.0,15.0,1...|33.0| 35.68876080691643|              36.0|\n",
      "+--------------------+----+------------------+------------------+\n",
      "only showing top 20 rows\n",
      "\n"
     ]
    }
   ],
   "source": [
    "# prompt: round prediction\n",
    "\n",
    "predictions = predictions.withColumn(\"rounded_prediction\", round(predictions[\"prediction\"]))\n",
    "predictions.show()"
   ]
  },
  {
   "cell_type": "code",
   "execution_count": 93,
   "metadata": {
    "colab": {
     "base_uri": "https://localhost:8080/"
    },
    "executionInfo": {
     "elapsed": 2165,
     "status": "ok",
     "timestamp": 1735009640133,
     "user": {
      "displayName": "NNamTaj",
      "userId": "04579073928170218763"
     },
     "user_tz": -420
    },
    "id": "fpR11RfGpYyp",
    "outputId": "bc1d0034-0d52-46fd-bbfe-28f943cbc558"
   },
   "outputs": [
    {
     "name": "stdout",
     "output_type": "stream",
     "text": [
      "+--------------------+\n",
      "|            features|\n",
      "+--------------------+\n",
      "|[24.0,22.0,12.0,2...|\n",
      "|[25.0,24.0,8.0,37...|\n",
      "|[25.0,24.0,14.0,5...|\n",
      "|[26.0,16.0,13.0,5...|\n",
      "|[26.0,18.0,16.0,2...|\n",
      "|[26.0,23.0,13.0,5...|\n",
      "|[26.0,24.0,15.0,2...|\n",
      "|[26.0,24.0,17.0,1...|\n",
      "|[26.0,25.0,7.0,41...|\n",
      "|[26.0,25.0,19.0,3...|\n",
      "|[27.0,21.0,6.0,15...|\n",
      "|[27.0,21.0,9.0,4....|\n",
      "|[27.0,23.0,8.0,15...|\n",
      "|[27.0,23.0,10.0,2...|\n",
      "|[27.0,24.0,10.0,1...|\n",
      "|[27.0,24.0,10.0,3...|\n",
      "|[27.0,24.0,11.0,2...|\n",
      "|[27.0,24.0,15.0,1...|\n",
      "|[27.0,25.0,4.0,8....|\n",
      "|[27.0,25.0,5.0,28...|\n",
      "+--------------------+\n",
      "only showing top 20 rows\n",
      "\n"
     ]
    }
   ],
   "source": [
    "a = test.filter(test['temp'] >= 30).select(['features'])\n",
    "a.show()"
   ]
  },
  {
   "cell_type": "code",
   "execution_count": 94,
   "metadata": {
    "colab": {
     "base_uri": "https://localhost:8080/"
    },
    "executionInfo": {
     "elapsed": 1205,
     "status": "ok",
     "timestamp": 1735009644565,
     "user": {
      "displayName": "NNamTaj",
      "userId": "04579073928170218763"
     },
     "user_tz": -420
    },
    "id": "MsguiQUByF9l",
    "outputId": "9d2ce981-fb35-496f-b03a-368c793f1a78"
   },
   "outputs": [
    {
     "name": "stdout",
     "output_type": "stream",
     "text": [
      "+--------------------+------------------+\n",
      "|            features|        prediction|\n",
      "+--------------------+------------------+\n",
      "|[24.0,22.0,12.0,2...| 36.59440559440559|\n",
      "|[25.0,24.0,8.0,37...| 33.94444444444444|\n",
      "|[25.0,24.0,14.0,5...| 33.94444444444444|\n",
      "|[26.0,16.0,13.0,5...| 33.94444444444444|\n",
      "|[26.0,18.0,16.0,2...|39.247368421052634|\n",
      "|[26.0,23.0,13.0,5...| 33.94444444444444|\n",
      "|[26.0,24.0,15.0,2...| 36.59440559440559|\n",
      "|[26.0,24.0,17.0,1...|39.247368421052634|\n",
      "|[26.0,25.0,7.0,41...| 33.94444444444444|\n",
      "|[26.0,25.0,19.0,3...| 33.94444444444444|\n",
      "|[27.0,21.0,6.0,15...|39.247368421052634|\n",
      "|[27.0,21.0,9.0,4....|  34.1578947368421|\n",
      "|[27.0,23.0,8.0,15...|39.247368421052634|\n",
      "|[27.0,23.0,10.0,2...| 36.59440559440559|\n",
      "|[27.0,24.0,10.0,1...|39.247368421052634|\n",
      "|[27.0,24.0,10.0,3...| 33.94444444444444|\n",
      "|[27.0,24.0,11.0,2...| 36.59440559440559|\n",
      "|[27.0,24.0,15.0,1...| 35.68876080691643|\n",
      "|[27.0,25.0,4.0,8....|39.247368421052634|\n",
      "|[27.0,25.0,5.0,28...| 36.59440559440559|\n",
      "+--------------------+------------------+\n",
      "only showing top 20 rows\n",
      "\n"
     ]
    }
   ],
   "source": [
    "predict = model.transform(a)\n",
    "predict.show()"
   ]
  },
  {
   "cell_type": "code",
   "execution_count": 95,
   "metadata": {
    "colab": {
     "base_uri": "https://localhost:8080/"
    },
    "executionInfo": {
     "elapsed": 2851,
     "status": "ok",
     "timestamp": 1735009682043,
     "user": {
      "displayName": "NNamTaj",
      "userId": "04579073928170218763"
     },
     "user_tz": -420
    },
    "id": "rFyButZHoje-",
    "outputId": "f00483db-af23-44ba-f5b2-b74a566b8586"
   },
   "outputs": [
    {
     "name": "stdout",
     "output_type": "stream",
     "text": [
      "+--------------------+------------------+------------------+\n",
      "|            features|        prediction|rounded_prediction|\n",
      "+--------------------+------------------+------------------+\n",
      "|[24.0,22.0,12.0,2...| 36.59440559440559|              37.0|\n",
      "|[25.0,24.0,8.0,37...| 33.94444444444444|              34.0|\n",
      "|[25.0,24.0,14.0,5...| 33.94444444444444|              34.0|\n",
      "|[26.0,16.0,13.0,5...| 33.94444444444444|              34.0|\n",
      "|[26.0,18.0,16.0,2...|39.247368421052634|              39.0|\n",
      "|[26.0,23.0,13.0,5...| 33.94444444444444|              34.0|\n",
      "|[26.0,24.0,15.0,2...| 36.59440559440559|              37.0|\n",
      "|[26.0,24.0,17.0,1...|39.247368421052634|              39.0|\n",
      "|[26.0,25.0,7.0,41...| 33.94444444444444|              34.0|\n",
      "|[26.0,25.0,19.0,3...| 33.94444444444444|              34.0|\n",
      "|[27.0,21.0,6.0,15...|39.247368421052634|              39.0|\n",
      "|[27.0,21.0,9.0,4....|  34.1578947368421|              34.0|\n",
      "|[27.0,23.0,8.0,15...|39.247368421052634|              39.0|\n",
      "|[27.0,23.0,10.0,2...| 36.59440559440559|              37.0|\n",
      "|[27.0,24.0,10.0,1...|39.247368421052634|              39.0|\n",
      "|[27.0,24.0,10.0,3...| 33.94444444444444|              34.0|\n",
      "|[27.0,24.0,11.0,2...| 36.59440559440559|              37.0|\n",
      "|[27.0,24.0,15.0,1...| 35.68876080691643|              36.0|\n",
      "|[27.0,25.0,4.0,8....|39.247368421052634|              39.0|\n",
      "|[27.0,25.0,5.0,28...| 36.59440559440559|              37.0|\n",
      "+--------------------+------------------+------------------+\n",
      "only showing top 20 rows\n",
      "\n"
     ]
    }
   ],
   "source": [
    "predict = predict.withColumn(\"rounded_prediction\", round(predict[\"prediction\"]))\n",
    "predict.show()"
   ]
  },
  {
   "cell_type": "code",
   "execution_count": 100,
   "metadata": {
    "colab": {
     "base_uri": "https://localhost:8080/"
    },
    "executionInfo": {
     "elapsed": 8017,
     "status": "ok",
     "timestamp": 1735009878624,
     "user": {
      "displayName": "NNamTaj",
      "userId": "04579073928170218763"
     },
     "user_tz": -420
    },
    "id": "rN9NinD8pAgi",
    "outputId": "34b7a55e-8fbb-4b1c-f403-1376a0cd2660"
   },
   "outputs": [
    {
     "name": "stdout",
     "output_type": "stream",
     "text": [
      "Root Mean Squared Error (RMSE) on test data = 1.5653388496698453\n",
      "R^2 on test data = 0.7618175807065126\n",
      "Mean Absolute Error (MAE) on test data = 1.1177142857142857\n",
      "R^2 as a measure of goodness of fit on the test set: 0.7618175807065126\n"
     ]
    }
   ],
   "source": [
    "from pyspark.ml.evaluation import RegressionEvaluator\n",
    "\n",
    "# Evaluate the model using RMSE on the test set\n",
    "evaluator = RegressionEvaluator(labelCol=\"temp\", predictionCol=\"rounded_prediction\", metricName=\"rmse\")\n",
    "rmse = evaluator.evaluate(predictions)\n",
    "print(f\"Root Mean Squared Error (RMSE) on test data = {rmse}\")\n",
    "\n",
    "# Evaluate the model using R^2 on the test set\n",
    "r2 = evaluator.evaluate(predictions, {evaluator.metricName: \"r2\"})\n",
    "print(f\"R^2 on test data = {r2}\")\n",
    "\n",
    "# Evaluate the model using MAE on the test set\n",
    "mae = evaluator.evaluate(predictions, {evaluator.metricName: \"mae\"})\n",
    "print(f\"Mean Absolute Error (MAE) on test data = {mae}\")\n",
    "\n",
    "# Calculate accuracy (you'll need to define what \"accuracy\" means in your context)\n",
    "# For regression, accuracy is less straightforward than classification.\n",
    "# You might use the R^2 value as a measure of goodness of fit.\n",
    "print(f\"R^2 as a measure of goodness of fit on the test set: {r2}\")"
   ]
  },
  {
   "cell_type": "code",
   "execution_count": 97,
   "metadata": {
    "colab": {
     "base_uri": "https://localhost:8080/",
     "height": 564
    },
    "executionInfo": {
     "elapsed": 6726,
     "status": "ok",
     "timestamp": 1735009768958,
     "user": {
      "displayName": "NNamTaj",
      "userId": "04579073928170218763"
     },
     "user_tz": -420
    },
    "id": "zmvhy0qiQNNZ",
    "outputId": "755e5bb3-025e-43e5-e6bd-71d0e0dad40a"
   },
   "outputs": [
    {
     "data": {
      "image/png": "[encoded data removed]",
      "text/plain": [
       "<Figure size 1000x600 with 1 Axes>"
      ]
     },
     "metadata": {},
     "output_type": "display_data"
    }
   ],
   "source": [
    "import matplotlib.pyplot as plt\n",
    "\n",
    "# Assuming 'predictions' DataFrame from your code\n",
    "# Extract predictions and true values\n",
    "y_pred = predictions.select(\"rounded_prediction\").toPandas()\n",
    "y_true = predictions.select(\"temp\").toPandas()\n",
    "\n",
    "\n",
    "# Create the plot\n",
    "plt.figure(figsize=(10, 6))\n",
    "plt.plot(y_true.index, y_true['temp'], label='True Values')\n",
    "plt.plot(y_pred.index, y_pred['rounded_prediction'], label='Predictions')\n",
    "plt.xlabel(\"Data Point Index\")\n",
    "plt.ylabel(\"True Temperature\")\n",
    "plt.title(\"Predicted vs. True Temperature\")\n",
    "plt.legend()\n",
    "plt.grid(True)\n",
    "plt.show()"
   ]
  },
  {
   "cell_type": "code",
   "execution_count": 98,
   "metadata": {
    "colab": {
     "base_uri": "https://localhost:8080/",
     "height": 564
    },
    "executionInfo": {
     "elapsed": 4117,
     "status": "ok",
     "timestamp": 1735009818896,
     "user": {
      "displayName": "NNamTaj",
      "userId": "04579073928170218763"
     },
     "user_tz": -420
    },
    "id": "4UuBrbZ364dg",
    "outputId": "6525189e-d801-48eb-d2cc-991c44dbfe41"
   },
   "outputs": [
    {
     "data": {
      "image/png": "[encoded data removed]",
      "text/plain": [
       "<Figure size 800x600 with 2 Axes>"
      ]
     },
     "metadata": {},
     "output_type": "display_data"
    }
   ],
   "source": [
    "from sklearn.metrics import confusion_matrix\n",
    "import seaborn as sns\n",
    "import numpy as np\n",
    "\n",
    "# Assuming 'predictions' DataFrame from your code\n",
    "# Extract predictions and true values\n",
    "# --- FIX: Use 'predictions' consistently for both true and predicted values ---\n",
    "y_true = predictions.select(\"temp\").toPandas()['temp'].to_numpy()\n",
    "y_pred = predictions.select(\"rounded_prediction\").toPandas()['rounded_prediction'].to_numpy()\n",
    "\n",
    "# Discretize the temperature values into bins (e.g., ranges)\n",
    "bins = np.linspace(y_true.min(), y_true.max(), num=5)\n",
    "y_pred_binned = np.digitize(y_pred, bins)\n",
    "y_true_binned = np.digitize(y_true, bins)\n",
    "\n",
    "# Calculate the confusion matrix\n",
    "cm = confusion_matrix(y_true_binned, y_pred_binned)\n",
    "\n",
    "# Create a heatmap of the confusion matrix\n",
    "plt.figure(figsize=(8, 6))\n",
    "sns.heatmap(cm, annot=True, fmt=\"d\", cmap=\"Blues\",\n",
    "            xticklabels=[f'temp {i}' for i in range(1, len(bins))],\n",
    "            yticklabels=[f'temp {i}' for i in range(1, len(bins))])\n",
    "plt.xlabel('Predicted Temp')\n",
    "plt.ylabel('True Temp')\n",
    "plt.title('Confusion Matrix for Temperature Predictions')\n",
    "plt.show()"
   ]
  },
  {
   "cell_type": "code",
   "execution_count": 75,
   "metadata": {
    "executionInfo": {
     "elapsed": 1120,
     "status": "ok",
     "timestamp": 1735009442841,
     "user": {
      "displayName": "NNamTaj",
      "userId": "04579073928170218763"
     },
     "user_tz": -420
    },
    "id": "9Tgq-wIRjtMY"
   },
   "outputs": [],
   "source": [
    "# Save the model to Google Drive\n",
    "model_path = \"/content/drive/MyDrive/Big Data Tech/Project/weather_model\"\n",
    "model.write().overwrite().save(model_path)"
   ]
  },
  {
   "cell_type": "code",
   "execution_count": 76,
   "metadata": {
    "colab": {
     "base_uri": "https://localhost:8080/",
     "height": 35
    },
    "executionInfo": {
     "elapsed": 24,
     "status": "ok",
     "timestamp": 1735009442841,
     "user": {
      "displayName": "NNamTaj",
      "userId": "04579073928170218763"
     },
     "user_tz": -420
    },
    "id": "qFSok-BMbnVc",
    "outputId": "126f7921-1a20-40c0-ae44-1a8e19b37cde"
   },
   "outputs": [
    {
     "data": {
      "application/vnd.google.colaboratory.intrinsic+json": {
       "type": "string"
      },
      "text/plain": [
       "'/content/drive/MyDrive/Big Data Tech/Project/weather_model.zip'"
      ]
     },
     "execution_count": 76,
     "metadata": {},
     "output_type": "execute_result"
    }
   ],
   "source": [
    "import shutil\n",
    "\n",
    "folder_to_zip = \"/content/drive/MyDrive/Big Data Tech/Project/weather_model\"\n",
    "zip_file_path = \"/content/drive/MyDrive/Big Data Tech/Project/weather_model.zip\"\n",
    "shutil.make_archive(zip_file_path.replace('.zip', ''), 'zip', folder_to_zip)"
   ]
  },
  {
   "cell_type": "code",
   "execution_count": 77,
   "metadata": {
    "executionInfo": {
     "elapsed": 23,
     "status": "ok",
     "timestamp": 1735009442843,
     "user": {
      "displayName": "NNamTaj",
      "userId": "04579073928170218763"
     },
     "user_tz": -420
    },
    "id": "seEfGDKYqaGa"
   },
   "outputs": [],
   "source": [
    "#spark.stop()"
   ]
  },
  {
   "cell_type": "code",
   "execution_count": 101,
   "metadata": {
    "colab": {
     "base_uri": "https://localhost:8080/",
     "height": 206
    },
    "executionInfo": {
     "elapsed": 409,
     "status": "ok",
     "timestamp": 1735010142137,
     "user": {
      "displayName": "NNamTaj",
      "userId": "04579073928170218763"
     },
     "user_tz": -420
    },
    "id": "YQ3lSq-GHCYK",
    "outputId": "6e4d82a9-0002-4329-ef1b-69ab27a159d1"
   },
   "outputs": [
    {
     "data": {
      "application/vnd.google.colaboratory.intrinsic+json": {
       "repr_error": "0",
       "type": "dataframe",
       "variable_name": "hochiminh"
      },
      "text/html": [
       "\n",
       "  <div id=\"df-9541a1b3-cd7e-45cd-9fab-8de2c064c452\" class=\"colab-df-container\">\n",
       "    <div>\n",
       "<style scoped>\n",
       "    .dataframe tbody tr th:only-of-type {\n",
       "        vertical-align: middle;\n",
       "    }\n",
       "\n",
       "    .dataframe tbody tr th {\n",
       "        vertical-align: top;\n",
       "    }\n",
       "\n",
       "    .dataframe thead th {\n",
       "        text-align: right;\n",
       "    }\n",
       "</style>\n",
       "<table border=\"1\" class=\"dataframe\">\n",
       "  <thead>\n",
       "    <tr style=\"text-align: right;\">\n",
       "      <th></th>\n",
       "      <th>max</th>\n",
       "      <th>min</th>\n",
       "      <th>wind</th>\n",
       "      <th>rain</th>\n",
       "      <th>humidi</th>\n",
       "      <th>cloud</th>\n",
       "      <th>pressure</th>\n",
       "      <th>date</th>\n",
       "    </tr>\n",
       "  </thead>\n",
       "  <tbody>\n",
       "    <tr>\n",
       "      <th>4501</th>\n",
       "      <td>29</td>\n",
       "      <td>22</td>\n",
       "      <td>6</td>\n",
       "      <td>18.5</td>\n",
       "      <td>89</td>\n",
       "      <td>68</td>\n",
       "      <td>1010</td>\n",
       "      <td>2009-01-01</td>\n",
       "    </tr>\n",
       "    <tr>\n",
       "      <th>4502</th>\n",
       "      <td>34</td>\n",
       "      <td>24</td>\n",
       "      <td>5</td>\n",
       "      <td>0.0</td>\n",
       "      <td>59</td>\n",
       "      <td>20</td>\n",
       "      <td>1010</td>\n",
       "      <td>2010-01-01</td>\n",
       "    </tr>\n",
       "    <tr>\n",
       "      <th>4503</th>\n",
       "      <td>29</td>\n",
       "      <td>23</td>\n",
       "      <td>4</td>\n",
       "      <td>0.2</td>\n",
       "      <td>81</td>\n",
       "      <td>42</td>\n",
       "      <td>1008</td>\n",
       "      <td>2011-01-01</td>\n",
       "    </tr>\n",
       "    <tr>\n",
       "      <th>4504</th>\n",
       "      <td>32</td>\n",
       "      <td>23</td>\n",
       "      <td>7</td>\n",
       "      <td>1.8</td>\n",
       "      <td>76</td>\n",
       "      <td>35</td>\n",
       "      <td>1012</td>\n",
       "      <td>2012-01-01</td>\n",
       "    </tr>\n",
       "    <tr>\n",
       "      <th>4505</th>\n",
       "      <td>33</td>\n",
       "      <td>24</td>\n",
       "      <td>4</td>\n",
       "      <td>0.0</td>\n",
       "      <td>69</td>\n",
       "      <td>15</td>\n",
       "      <td>1010</td>\n",
       "      <td>2013-01-01</td>\n",
       "    </tr>\n",
       "  </tbody>\n",
       "</table>\n",
       "</div>\n",
       "    <div class=\"colab-df-buttons\">\n",
       "\n",
       "  <div class=\"colab-df-container\">\n",
       "    <button class=\"colab-df-convert\" onclick=\"convertToInteractive('df-9541a1b3-cd7e-45cd-9fab-8de2c064c452')\"\n",
       "            title=\"Convert this dataframe to an interactive table.\"\n",
       "            style=\"display:none;\">\n",
       "\n",
       "  <svg xmlns=\"http://www.w3.org/2000/svg\" height=\"24px\" viewBox=\"0 -960 960 960\">\n",
       "    <path d=\"M120-120v-720h720v720H120Zm60-500h600v-160H180v160Zm220 220h160v-160H400v160Zm0 220h160v-160H400v160ZM180-400h160v-160H180v160Zm440 0h160v-160H620v160ZM180-180h160v-160H180v160Zm440 0h160v-160H620v160Z\"/>\n",
       "  </svg>\n",
       "    </button>\n",
       "\n",
       "  <style>\n",
       "    .colab-df-container {\n",
       "      display:flex;\n",
       "      gap: 12px;\n",
       "    }\n",
       "\n",
       "    .colab-df-convert {\n",
       "      background-color: #E8F0FE;\n",
       "      border: none;\n",
       "      border-radius: 50%;\n",
       "      cursor: pointer;\n",
       "      display: none;\n",
       "      fill: #1967D2;\n",
       "      height: 32px;\n",
       "      padding: 0 0 0 0;\n",
       "      width: 32px;\n",
       "    }\n",
       "\n",
       "    .colab-df-convert:hover {\n",
       "      background-color: #E2EBFA;\n",
       "      box-shadow: 0px 1px 2px rgba(60, 64, 67, 0.3), 0px 1px 3px 1px rgba(60, 64, 67, 0.15);\n",
       "      fill: #174EA6;\n",
       "    }\n",
       "\n",
       "    .colab-df-buttons div {\n",
       "      margin-bottom: 4px;\n",
       "    }\n",
       "\n",
       "    [theme=dark] .colab-df-convert {\n",
       "      background-color: #3B4455;\n",
       "      fill: #D2E3FC;\n",
       "    }\n",
       "\n",
       "    [theme=dark] .colab-df-convert:hover {\n",
       "      background-color: #434B5C;\n",
       "      box-shadow: 0px 1px 3px 1px rgba(0, 0, 0, 0.15);\n",
       "      filter: drop-shadow(0px 1px 2px rgba(0, 0, 0, 0.3));\n",
       "      fill: #FFFFFF;\n",
       "    }\n",
       "  </style>\n",
       "\n",
       "    <script>\n",
       "      const buttonEl =\n",
       "        document.querySelector('#df-9541a1b3-cd7e-45cd-9fab-8de2c064c452 button.colab-df-convert');\n",
       "      buttonEl.style.display =\n",
       "        google.colab.kernel.accessAllowed ? 'block' : 'none';\n",
       "\n",
       "      async function convertToInteractive(key) {\n",
       "        const element = document.querySelector('#df-9541a1b3-cd7e-45cd-9fab-8de2c064c452');\n",
       "        const dataTable =\n",
       "          await google.colab.kernel.invokeFunction('convertToInteractive',\n",
       "                                                    [key], {});\n",
       "        if (!dataTable) return;\n",
       "\n",
       "        const docLinkHtml = 'Like what you see? Visit the ' +\n",
       "          '<a target=\"_blank\" href=https://colab.research.google.com/notebooks/data_table.ipynb>data table notebook</a>'\n",
       "          + ' to learn more about interactive tables.';\n",
       "        element.innerHTML = '';\n",
       "        dataTable['output_type'] = 'display_data';\n",
       "        await google.colab.output.renderOutput(dataTable, element);\n",
       "        const docLink = document.createElement('div');\n",
       "        docLink.innerHTML = docLinkHtml;\n",
       "        element.appendChild(docLink);\n",
       "      }\n",
       "    </script>\n",
       "  </div>\n",
       "\n",
       "\n",
       "<div id=\"df-c5c7824a-e023-4d7f-9f71-de606da3cdca\">\n",
       "  <button class=\"colab-df-quickchart\" onclick=\"quickchart('df-c5c7824a-e023-4d7f-9f71-de606da3cdca')\"\n",
       "            title=\"Suggest charts\"\n",
       "            style=\"display:none;\">\n",
       "\n",
       "<svg xmlns=\"http://www.w3.org/2000/svg\" height=\"24px\"viewBox=\"0 0 24 24\"\n",
       "     width=\"24px\">\n",
       "    <g>\n",
       "        <path d=\"M19 3H5c-1.1 0-2 .9-2 2v14c0 1.1.9 2 2 2h14c1.1 0 2-.9 2-2V5c0-1.1-.9-2-2-2zM9 17H7v-7h2v7zm4 0h-2V7h2v10zm4 0h-2v-4h2v4z\"/>\n",
       "    </g>\n",
       "</svg>\n",
       "  </button>\n",
       "\n",
       "<style>\n",
       "  .colab-df-quickchart {\n",
       "      --bg-color: #E8F0FE;\n",
       "      --fill-color: #1967D2;\n",
       "      --hover-bg-color: #E2EBFA;\n",
       "      --hover-fill-color: #174EA6;\n",
       "      --disabled-fill-color: #AAA;\n",
       "      --disabled-bg-color: #DDD;\n",
       "  }\n",
       "\n",
       "  [theme=dark] .colab-df-quickchart {\n",
       "      --bg-color: #3B4455;\n",
       "      --fill-color: #D2E3FC;\n",
       "      --hover-bg-color: #434B5C;\n",
       "      --hover-fill-color: #FFFFFF;\n",
       "      --disabled-bg-color: #3B4455;\n",
       "      --disabled-fill-color: #666;\n",
       "  }\n",
       "\n",
       "  .colab-df-quickchart {\n",
       "    background-color: var(--bg-color);\n",
       "    border: none;\n",
       "    border-radius: 50%;\n",
       "    cursor: pointer;\n",
       "    display: none;\n",
       "    fill: var(--fill-color);\n",
       "    height: 32px;\n",
       "    padding: 0;\n",
       "    width: 32px;\n",
       "  }\n",
       "\n",
       "  .colab-df-quickchart:hover {\n",
       "    background-color: var(--hover-bg-color);\n",
       "    box-shadow: 0 1px 2px rgba(60, 64, 67, 0.3), 0 1px 3px 1px rgba(60, 64, 67, 0.15);\n",
       "    fill: var(--button-hover-fill-color);\n",
       "  }\n",
       "\n",
       "  .colab-df-quickchart-complete:disabled,\n",
       "  .colab-df-quickchart-complete:disabled:hover {\n",
       "    background-color: var(--disabled-bg-color);\n",
       "    fill: var(--disabled-fill-color);\n",
       "    box-shadow: none;\n",
       "  }\n",
       "\n",
       "  .colab-df-spinner {\n",
       "    border: 2px solid var(--fill-color);\n",
       "    border-color: transparent;\n",
       "    border-bottom-color: var(--fill-color);\n",
       "    animation:\n",
       "      spin 1s steps(1) infinite;\n",
       "  }\n",
       "\n",
       "  @keyframes spin {\n",
       "    0% {\n",
       "      border-color: transparent;\n",
       "      border-bottom-color: var(--fill-color);\n",
       "      border-left-color: var(--fill-color);\n",
       "    }\n",
       "    20% {\n",
       "      border-color: transparent;\n",
       "      border-left-color: var(--fill-color);\n",
       "      border-top-color: var(--fill-color);\n",
       "    }\n",
       "    30% {\n",
       "      border-color: transparent;\n",
       "      border-left-color: var(--fill-color);\n",
       "      border-top-color: var(--fill-color);\n",
       "      border-right-color: var(--fill-color);\n",
       "    }\n",
       "    40% {\n",
       "      border-color: transparent;\n",
       "      border-right-color: var(--fill-color);\n",
       "      border-top-color: var(--fill-color);\n",
       "    }\n",
       "    60% {\n",
       "      border-color: transparent;\n",
       "      border-right-color: var(--fill-color);\n",
       "    }\n",
       "    80% {\n",
       "      border-color: transparent;\n",
       "      border-right-color: var(--fill-color);\n",
       "      border-bottom-color: var(--fill-color);\n",
       "    }\n",
       "    90% {\n",
       "      border-color: transparent;\n",
       "      border-bottom-color: var(--fill-color);\n",
       "    }\n",
       "  }\n",
       "</style>\n",
       "\n",
       "  <script>\n",
       "    async function quickchart(key) {\n",
       "      const quickchartButtonEl =\n",
       "        document.querySelector('#' + key + ' button');\n",
       "      quickchartButtonEl.disabled = true;  // To prevent multiple clicks.\n",
       "      quickchartButtonEl.classList.add('colab-df-spinner');\n",
       "      try {\n",
       "        const charts = await google.colab.kernel.invokeFunction(\n",
       "            'suggestCharts', [key], {});\n",
       "      } catch (error) {\n",
       "        console.error('Error during call to suggestCharts:', error);\n",
       "      }\n",
       "      quickchartButtonEl.classList.remove('colab-df-spinner');\n",
       "      quickchartButtonEl.classList.add('colab-df-quickchart-complete');\n",
       "    }\n",
       "    (() => {\n",
       "      let quickchartButtonEl =\n",
       "        document.querySelector('#df-c5c7824a-e023-4d7f-9f71-de606da3cdca button');\n",
       "      quickchartButtonEl.style.display =\n",
       "        google.colab.kernel.accessAllowed ? 'block' : 'none';\n",
       "    })();\n",
       "  </script>\n",
       "</div>\n",
       "\n",
       "    </div>\n",
       "  </div>\n"
      ],
      "text/plain": [
       "      max  min  wind  rain  humidi  cloud  pressure        date\n",
       "4501   29   22     6  18.5      89     68      1010  2009-01-01\n",
       "4502   34   24     5   0.0      59     20      1010  2010-01-01\n",
       "4503   29   23     4   0.2      81     42      1008  2011-01-01\n",
       "4504   32   23     7   1.8      76     35      1012  2012-01-01\n",
       "4505   33   24     4   0.0      69     15      1010  2013-01-01"
      ]
     },
     "execution_count": 101,
     "metadata": {},
     "output_type": "execute_result"
    }
   ],
   "source": [
    "hochiminh = df[df['province'] == 'Ho Chi Minh City']\n",
    "hochiminh = hochiminh.drop(['province', 'wind_d'], axis=1)\n",
    "hochiminh.head()"
   ]
  },
  {
   "cell_type": "markdown",
   "metadata": {
    "id": "Y_5FOz-DifkX"
   },
   "source": [
    "# hochiminh['avg_temp'] = (hochiminh['max'] + hochiminh['min']) / 2\n",
    "# hochiminh.head()"
   ]
  },
  {
   "cell_type": "markdown",
   "metadata": {
    "id": "4goOP8DsjPR_"
   },
   "source": [
    "# def calculate_heat_index(T, RH):\n",
    "#     \"\"\"Calculates the heat index in degrees Celsius.\n",
    "\n",
    "#     Args:\n",
    "#         T: Temperature in degrees Celsius.\n",
    "#         RH: Relative humidity (%).\n",
    "\n",
    "#     Returns:\n",
    "#         The heat index in degrees Celsius.\n",
    "#     \"\"\"\n",
    "#     # Formula for Heat Index (Stull, 1988) - approximation\n",
    "#     HI = -8.784695 + 1.61139411 * T + 2.338549 * RH - 0.14611605 * T * RH - 0.012308094 * T**2 - 0.0164248277 * RH**2 + 0.002211732 * T**2 * RH + 0.00072546 * T * RH**2 - 0.000003582 * T**2 * RH**2\n",
    "\n",
    "#     return HI\n",
    "\n",
    "# # Apply the function to create the 'heat_index' column\n",
    "# hochiminh['heat_index'] = hochiminh.apply(lambda row: calculate_heat_index(row['temp'], row['humidi']), axis=1)\n",
    "\n",
    "# # Display the updated DataFrame\n",
    "# print(hochiminh.head())"
   ]
  },
  {
   "cell_type": "code",
   "execution_count": 102,
   "metadata": {
    "colab": {
     "base_uri": "https://localhost:8080/",
     "height": 335
    },
    "executionInfo": {
     "elapsed": 813,
     "status": "ok",
     "timestamp": 1735010147459,
     "user": {
      "displayName": "NNamTaj",
      "userId": "04579073928170218763"
     },
     "user_tz": -420
    },
    "id": "5XgjUkp0IKe4",
    "outputId": "2491deb2-15d8-4e2c-f6c7-0d3412eaad3a"
   },
   "outputs": [
    {
     "data": {
      "text/html": [
       "<div>\n",
       "<style scoped>\n",
       "    .dataframe tbody tr th:only-of-type {\n",
       "        vertical-align: middle;\n",
       "    }\n",
       "\n",
       "    .dataframe tbody tr th {\n",
       "        vertical-align: top;\n",
       "    }\n",
       "\n",
       "    .dataframe thead th {\n",
       "        text-align: right;\n",
       "    }\n",
       "</style>\n",
       "<table border=\"1\" class=\"dataframe\">\n",
       "  <thead>\n",
       "    <tr style=\"text-align: right;\">\n",
       "      <th></th>\n",
       "      <th>0</th>\n",
       "    </tr>\n",
       "  </thead>\n",
       "  <tbody>\n",
       "    <tr>\n",
       "      <th>max</th>\n",
       "      <td>0</td>\n",
       "    </tr>\n",
       "    <tr>\n",
       "      <th>min</th>\n",
       "      <td>0</td>\n",
       "    </tr>\n",
       "    <tr>\n",
       "      <th>wind</th>\n",
       "      <td>0</td>\n",
       "    </tr>\n",
       "    <tr>\n",
       "      <th>rain</th>\n",
       "      <td>0</td>\n",
       "    </tr>\n",
       "    <tr>\n",
       "      <th>humidi</th>\n",
       "      <td>0</td>\n",
       "    </tr>\n",
       "    <tr>\n",
       "      <th>cloud</th>\n",
       "      <td>0</td>\n",
       "    </tr>\n",
       "    <tr>\n",
       "      <th>pressure</th>\n",
       "      <td>0</td>\n",
       "    </tr>\n",
       "    <tr>\n",
       "      <th>date</th>\n",
       "      <td>0</td>\n",
       "    </tr>\n",
       "  </tbody>\n",
       "</table>\n",
       "</div><br><label><b>dtype:</b> int64</label>"
      ],
      "text/plain": [
       "max         0\n",
       "min         0\n",
       "wind        0\n",
       "rain        0\n",
       "humidi      0\n",
       "cloud       0\n",
       "pressure    0\n",
       "date        0\n",
       "dtype: int64"
      ]
     },
     "execution_count": 102,
     "metadata": {},
     "output_type": "execute_result"
    }
   ],
   "source": [
    "hochiminh.isna().sum()"
   ]
  },
  {
   "cell_type": "code",
   "execution_count": 103,
   "metadata": {
    "colab": {
     "base_uri": "https://localhost:8080/"
    },
    "executionInfo": {
     "elapsed": 5,
     "status": "ok",
     "timestamp": 1735010150731,
     "user": {
      "displayName": "NNamTaj",
      "userId": "04579073928170218763"
     },
     "user_tz": -420
    },
    "id": "-sjezWXCIieH",
    "outputId": "a1d0260f-991e-4470-9e7b-4050d5972275"
   },
   "outputs": [
    {
     "data": {
      "text/plain": [
       "0"
      ]
     },
     "execution_count": 103,
     "metadata": {},
     "output_type": "execute_result"
    }
   ],
   "source": [
    "hochiminh.duplicated().sum()"
   ]
  },
  {
   "cell_type": "code",
   "execution_count": 104,
   "metadata": {
    "colab": {
     "base_uri": "https://localhost:8080/",
     "height": 206
    },
    "executionInfo": {
     "elapsed": 10,
     "status": "ok",
     "timestamp": 1735010154447,
     "user": {
      "displayName": "NNamTaj",
      "userId": "04579073928170218763"
     },
     "user_tz": -420
    },
    "id": "ooI79ECXaqdv",
    "outputId": "08d22979-a3b9-4099-9916-5115d8197830"
   },
   "outputs": [
    {
     "data": {
      "application/vnd.google.colaboratory.intrinsic+json": {
       "repr_error": "0",
       "type": "dataframe",
       "variable_name": "hochiminh"
      },
      "text/html": [
       "\n",
       "  <div id=\"df-15da6f30-fadd-4477-a310-98d582dc777b\" class=\"colab-df-container\">\n",
       "    <div>\n",
       "<style scoped>\n",
       "    .dataframe tbody tr th:only-of-type {\n",
       "        vertical-align: middle;\n",
       "    }\n",
       "\n",
       "    .dataframe tbody tr th {\n",
       "        vertical-align: top;\n",
       "    }\n",
       "\n",
       "    .dataframe thead th {\n",
       "        text-align: right;\n",
       "    }\n",
       "</style>\n",
       "<table border=\"1\" class=\"dataframe\">\n",
       "  <thead>\n",
       "    <tr style=\"text-align: right;\">\n",
       "      <th></th>\n",
       "      <th>max</th>\n",
       "      <th>min</th>\n",
       "      <th>wind</th>\n",
       "      <th>rain</th>\n",
       "      <th>humidi</th>\n",
       "      <th>cloud</th>\n",
       "      <th>pressure</th>\n",
       "      <th>date</th>\n",
       "      <th>temp</th>\n",
       "    </tr>\n",
       "  </thead>\n",
       "  <tbody>\n",
       "    <tr>\n",
       "      <th>4501</th>\n",
       "      <td>29</td>\n",
       "      <td>22</td>\n",
       "      <td>6</td>\n",
       "      <td>18.5</td>\n",
       "      <td>89</td>\n",
       "      <td>68</td>\n",
       "      <td>1010</td>\n",
       "      <td>2009-01-01</td>\n",
       "      <td>37.0</td>\n",
       "    </tr>\n",
       "    <tr>\n",
       "      <th>4502</th>\n",
       "      <td>34</td>\n",
       "      <td>24</td>\n",
       "      <td>5</td>\n",
       "      <td>0.0</td>\n",
       "      <td>59</td>\n",
       "      <td>20</td>\n",
       "      <td>1010</td>\n",
       "      <td>2010-01-01</td>\n",
       "      <td>33.0</td>\n",
       "    </tr>\n",
       "    <tr>\n",
       "      <th>4503</th>\n",
       "      <td>29</td>\n",
       "      <td>23</td>\n",
       "      <td>4</td>\n",
       "      <td>0.2</td>\n",
       "      <td>81</td>\n",
       "      <td>42</td>\n",
       "      <td>1008</td>\n",
       "      <td>2011-01-01</td>\n",
       "      <td>35.0</td>\n",
       "    </tr>\n",
       "    <tr>\n",
       "      <th>4504</th>\n",
       "      <td>32</td>\n",
       "      <td>23</td>\n",
       "      <td>7</td>\n",
       "      <td>1.8</td>\n",
       "      <td>76</td>\n",
       "      <td>35</td>\n",
       "      <td>1012</td>\n",
       "      <td>2012-01-01</td>\n",
       "      <td>34.0</td>\n",
       "    </tr>\n",
       "    <tr>\n",
       "      <th>4505</th>\n",
       "      <td>33</td>\n",
       "      <td>24</td>\n",
       "      <td>4</td>\n",
       "      <td>0.0</td>\n",
       "      <td>69</td>\n",
       "      <td>15</td>\n",
       "      <td>1010</td>\n",
       "      <td>2013-01-01</td>\n",
       "      <td>32.0</td>\n",
       "    </tr>\n",
       "  </tbody>\n",
       "</table>\n",
       "</div>\n",
       "    <div class=\"colab-df-buttons\">\n",
       "\n",
       "  <div class=\"colab-df-container\">\n",
       "    <button class=\"colab-df-convert\" onclick=\"convertToInteractive('df-15da6f30-fadd-4477-a310-98d582dc777b')\"\n",
       "            title=\"Convert this dataframe to an interactive table.\"\n",
       "            style=\"display:none;\">\n",
       "\n",
       "  <svg xmlns=\"http://www.w3.org/2000/svg\" height=\"24px\" viewBox=\"0 -960 960 960\">\n",
       "    <path d=\"M120-120v-720h720v720H120Zm60-500h600v-160H180v160Zm220 220h160v-160H400v160Zm0 220h160v-160H400v160ZM180-400h160v-160H180v160Zm440 0h160v-160H620v160ZM180-180h160v-160H180v160Zm440 0h160v-160H620v160Z\"/>\n",
       "  </svg>\n",
       "    </button>\n",
       "\n",
       "  <style>\n",
       "    .colab-df-container {\n",
       "      display:flex;\n",
       "      gap: 12px;\n",
       "    }\n",
       "\n",
       "    .colab-df-convert {\n",
       "      background-color: #E8F0FE;\n",
       "      border: none;\n",
       "      border-radius: 50%;\n",
       "      cursor: pointer;\n",
       "      display: none;\n",
       "      fill: #1967D2;\n",
       "      height: 32px;\n",
       "      padding: 0 0 0 0;\n",
       "      width: 32px;\n",
       "    }\n",
       "\n",
       "    .colab-df-convert:hover {\n",
       "      background-color: #E2EBFA;\n",
       "      box-shadow: 0px 1px 2px rgba(60, 64, 67, 0.3), 0px 1px 3px 1px rgba(60, 64, 67, 0.15);\n",
       "      fill: #174EA6;\n",
       "    }\n",
       "\n",
       "    .colab-df-buttons div {\n",
       "      margin-bottom: 4px;\n",
       "    }\n",
       "\n",
       "    [theme=dark] .colab-df-convert {\n",
       "      background-color: #3B4455;\n",
       "      fill: #D2E3FC;\n",
       "    }\n",
       "\n",
       "    [theme=dark] .colab-df-convert:hover {\n",
       "      background-color: #434B5C;\n",
       "      box-shadow: 0px 1px 3px 1px rgba(0, 0, 0, 0.15);\n",
       "      filter: drop-shadow(0px 1px 2px rgba(0, 0, 0, 0.3));\n",
       "      fill: #FFFFFF;\n",
       "    }\n",
       "  </style>\n",
       "\n",
       "    <script>\n",
       "      const buttonEl =\n",
       "        document.querySelector('#df-15da6f30-fadd-4477-a310-98d582dc777b button.colab-df-convert');\n",
       "      buttonEl.style.display =\n",
       "        google.colab.kernel.accessAllowed ? 'block' : 'none';\n",
       "\n",
       "      async function convertToInteractive(key) {\n",
       "        const element = document.querySelector('#df-15da6f30-fadd-4477-a310-98d582dc777b');\n",
       "        const dataTable =\n",
       "          await google.colab.kernel.invokeFunction('convertToInteractive',\n",
       "                                                    [key], {});\n",
       "        if (!dataTable) return;\n",
       "\n",
       "        const docLinkHtml = 'Like what you see? Visit the ' +\n",
       "          '<a target=\"_blank\" href=https://colab.research.google.com/notebooks/data_table.ipynb>data table notebook</a>'\n",
       "          + ' to learn more about interactive tables.';\n",
       "        element.innerHTML = '';\n",
       "        dataTable['output_type'] = 'display_data';\n",
       "        await google.colab.output.renderOutput(dataTable, element);\n",
       "        const docLink = document.createElement('div');\n",
       "        docLink.innerHTML = docLinkHtml;\n",
       "        element.appendChild(docLink);\n",
       "      }\n",
       "    </script>\n",
       "  </div>\n",
       "\n",
       "\n",
       "<div id=\"df-28e62b6b-1213-4d79-9409-42d3ed5b83d9\">\n",
       "  <button class=\"colab-df-quickchart\" onclick=\"quickchart('df-28e62b6b-1213-4d79-9409-42d3ed5b83d9')\"\n",
       "            title=\"Suggest charts\"\n",
       "            style=\"display:none;\">\n",
       "\n",
       "<svg xmlns=\"http://www.w3.org/2000/svg\" height=\"24px\"viewBox=\"0 0 24 24\"\n",
       "     width=\"24px\">\n",
       "    <g>\n",
       "        <path d=\"M19 3H5c-1.1 0-2 .9-2 2v14c0 1.1.9 2 2 2h14c1.1 0 2-.9 2-2V5c0-1.1-.9-2-2-2zM9 17H7v-7h2v7zm4 0h-2V7h2v10zm4 0h-2v-4h2v4z\"/>\n",
       "    </g>\n",
       "</svg>\n",
       "  </button>\n",
       "\n",
       "<style>\n",
       "  .colab-df-quickchart {\n",
       "      --bg-color: #E8F0FE;\n",
       "      --fill-color: #1967D2;\n",
       "      --hover-bg-color: #E2EBFA;\n",
       "      --hover-fill-color: #174EA6;\n",
       "      --disabled-fill-color: #AAA;\n",
       "      --disabled-bg-color: #DDD;\n",
       "  }\n",
       "\n",
       "  [theme=dark] .colab-df-quickchart {\n",
       "      --bg-color: #3B4455;\n",
       "      --fill-color: #D2E3FC;\n",
       "      --hover-bg-color: #434B5C;\n",
       "      --hover-fill-color: #FFFFFF;\n",
       "      --disabled-bg-color: #3B4455;\n",
       "      --disabled-fill-color: #666;\n",
       "  }\n",
       "\n",
       "  .colab-df-quickchart {\n",
       "    background-color: var(--bg-color);\n",
       "    border: none;\n",
       "    border-radius: 50%;\n",
       "    cursor: pointer;\n",
       "    display: none;\n",
       "    fill: var(--fill-color);\n",
       "    height: 32px;\n",
       "    padding: 0;\n",
       "    width: 32px;\n",
       "  }\n",
       "\n",
       "  .colab-df-quickchart:hover {\n",
       "    background-color: var(--hover-bg-color);\n",
       "    box-shadow: 0 1px 2px rgba(60, 64, 67, 0.3), 0 1px 3px 1px rgba(60, 64, 67, 0.15);\n",
       "    fill: var(--button-hover-fill-color);\n",
       "  }\n",
       "\n",
       "  .colab-df-quickchart-complete:disabled,\n",
       "  .colab-df-quickchart-complete:disabled:hover {\n",
       "    background-color: var(--disabled-bg-color);\n",
       "    fill: var(--disabled-fill-color);\n",
       "    box-shadow: none;\n",
       "  }\n",
       "\n",
       "  .colab-df-spinner {\n",
       "    border: 2px solid var(--fill-color);\n",
       "    border-color: transparent;\n",
       "    border-bottom-color: var(--fill-color);\n",
       "    animation:\n",
       "      spin 1s steps(1) infinite;\n",
       "  }\n",
       "\n",
       "  @keyframes spin {\n",
       "    0% {\n",
       "      border-color: transparent;\n",
       "      border-bottom-color: var(--fill-color);\n",
       "      border-left-color: var(--fill-color);\n",
       "    }\n",
       "    20% {\n",
       "      border-color: transparent;\n",
       "      border-left-color: var(--fill-color);\n",
       "      border-top-color: var(--fill-color);\n",
       "    }\n",
       "    30% {\n",
       "      border-color: transparent;\n",
       "      border-left-color: var(--fill-color);\n",
       "      border-top-color: var(--fill-color);\n",
       "      border-right-color: var(--fill-color);\n",
       "    }\n",
       "    40% {\n",
       "      border-color: transparent;\n",
       "      border-right-color: var(--fill-color);\n",
       "      border-top-color: var(--fill-color);\n",
       "    }\n",
       "    60% {\n",
       "      border-color: transparent;\n",
       "      border-right-color: var(--fill-color);\n",
       "    }\n",
       "    80% {\n",
       "      border-color: transparent;\n",
       "      border-right-color: var(--fill-color);\n",
       "      border-bottom-color: var(--fill-color);\n",
       "    }\n",
       "    90% {\n",
       "      border-color: transparent;\n",
       "      border-bottom-color: var(--fill-color);\n",
       "    }\n",
       "  }\n",
       "</style>\n",
       "\n",
       "  <script>\n",
       "    async function quickchart(key) {\n",
       "      const quickchartButtonEl =\n",
       "        document.querySelector('#' + key + ' button');\n",
       "      quickchartButtonEl.disabled = true;  // To prevent multiple clicks.\n",
       "      quickchartButtonEl.classList.add('colab-df-spinner');\n",
       "      try {\n",
       "        const charts = await google.colab.kernel.invokeFunction(\n",
       "            'suggestCharts', [key], {});\n",
       "      } catch (error) {\n",
       "        console.error('Error during call to suggestCharts:', error);\n",
       "      }\n",
       "      quickchartButtonEl.classList.remove('colab-df-spinner');\n",
       "      quickchartButtonEl.classList.add('colab-df-quickchart-complete');\n",
       "    }\n",
       "    (() => {\n",
       "      let quickchartButtonEl =\n",
       "        document.querySelector('#df-28e62b6b-1213-4d79-9409-42d3ed5b83d9 button');\n",
       "      quickchartButtonEl.style.display =\n",
       "        google.colab.kernel.accessAllowed ? 'block' : 'none';\n",
       "    })();\n",
       "  </script>\n",
       "</div>\n",
       "\n",
       "    </div>\n",
       "  </div>\n"
      ],
      "text/plain": [
       "      max  min  wind  rain  humidi  cloud  pressure        date  temp\n",
       "4501   29   22     6  18.5      89     68      1010  2009-01-01  37.0\n",
       "4502   34   24     5   0.0      59     20      1010  2010-01-01  33.0\n",
       "4503   29   23     4   0.2      81     42      1008  2011-01-01  35.0\n",
       "4504   32   23     7   1.8      76     35      1012  2012-01-01  34.0\n",
       "4505   33   24     4   0.0      69     15      1010  2013-01-01  32.0"
      ]
     },
     "execution_count": 104,
     "metadata": {},
     "output_type": "execute_result"
    }
   ],
   "source": [
    "import math\n",
    "def estimate_temperature(T_min, T_max, RH, WS, CC, R, P, day_progression_weight = 0.5):\n",
    "    \"\"\"\n",
    "    Estimate the current temperature without time information.\n",
    "\n",
    "    Parameters:\n",
    "        T_min (float): Minimum temperature (°C)\n",
    "        T_max (float): Maximum temperature (°C)\n",
    "        RH (float): Relative humidity (%)\n",
    "        WS (float): Wind speed (km/h)\n",
    "        CC (float): Cloud cover (%)\n",
    "        R (float): Rainfall (mm)\n",
    "        P (float): Pressure (hPa)\n",
    "        day_progression_weight (float): Assumed progression of the day (0.0 = morning, 1.0 = evening)\n",
    "\n",
    "    Returns:\n",
    "        float: Estimated current temperature (°C)\n",
    "    \"\"\"\n",
    "    # Constants for adjustment factors\n",
    "    alpha = 0.02  # Humidity factor\n",
    "    beta = 0.6    # Wind factor\n",
    "    gamma = 0.2   # Cloud cover factor\n",
    "    delta = 0.15  # Rainfall factor\n",
    "    epsilon = 0.02  # Pressure factor\n",
    "\n",
    "    # Base temperature using weighted progression between T_min and T_max\n",
    "    T_baseline = T_min + day_progression_weight * (T_max - T_min)\n",
    "\n",
    "    # Adjustments based on environmental factors\n",
    "    T_current = T_baseline\n",
    "    T_current += alpha * RH                     # Humidity adjustment\n",
    "    T_current -= beta * math.sqrt(WS)           # Wind speed adjustment\n",
    "    T_current += gamma * CC                     # Cloud cover adjustment\n",
    "    T_current -= delta * R                      # Rainfall adjustment\n",
    "    T_current += epsilon * (P - 1013)           # Pressure adjustment\n",
    "\n",
    "    return T_current\n",
    "\n",
    "hochiminh['temp'] = hochiminh.apply(lambda row: estimate_temperature(row['min'], row['max'], row['humidi'], row['wind'], row['cloud'], row['rain'], row['pressure']), axis=1).round()\n",
    "hochiminh.head()"
   ]
  },
  {
   "cell_type": "code",
   "execution_count": 105,
   "metadata": {
    "executionInfo": {
     "elapsed": 348,
     "status": "ok",
     "timestamp": 1735010163495,
     "user": {
      "displayName": "NNamTaj",
      "userId": "04579073928170218763"
     },
     "user_tz": -420
    },
    "id": "M5IwcTVioFsJ"
   },
   "outputs": [],
   "source": [
    "X = hochiminh[['max', 'min', 'wind', 'rain', 'humidi', 'cloud', 'pressure']]  # Add more features as necessary\n",
    "y = hochiminh['temp']"
   ]
  },
  {
   "cell_type": "code",
   "execution_count": 106,
   "metadata": {
    "colab": {
     "base_uri": "https://localhost:8080/"
    },
    "executionInfo": {
     "elapsed": 567,
     "status": "ok",
     "timestamp": 1735010165829,
     "user": {
      "displayName": "NNamTaj",
      "userId": "04579073928170218763"
     },
     "user_tz": -420
    },
    "id": "uBDBYWLZoY3q",
    "outputId": "b0c274b4-dc60-4ef3-8c64-6e72116b2083"
   },
   "outputs": [
    {
     "data": {
      "text/plain": [
       "((3639, 7), (910, 7), (3639,), (910,))"
      ]
     },
     "execution_count": 106,
     "metadata": {},
     "output_type": "execute_result"
    }
   ],
   "source": [
    "from sklearn.model_selection import train_test_split\n",
    "X_train, X_test, y_train, y_test = train_test_split(X, y, test_size=0.2, random_state=42)\n",
    "X_train.shape, X_test.shape, y_train.shape, y_test.shape"
   ]
  },
  {
   "cell_type": "code",
   "execution_count": 107,
   "metadata": {
    "colab": {
     "base_uri": "https://localhost:8080/",
     "height": 80
    },
    "executionInfo": {
     "elapsed": 517,
     "status": "ok",
     "timestamp": 1735010167997,
     "user": {
      "displayName": "NNamTaj",
      "userId": "04579073928170218763"
     },
     "user_tz": -420
    },
    "id": "E3gBYMGyoc4T",
    "outputId": "761f239a-6cb8-4ce1-efb4-1dc7652247f7"
   },
   "outputs": [
    {
     "data": {
      "text/html": [
       "<style>#sk-container-id-3 {\n",
       "  /* Definition of color scheme common for light and dark mode */\n",
       "  --sklearn-color-text: #000;\n",
       "  --sklearn-color-text-muted: #666;\n",
       "  --sklearn-color-line: gray;\n",
       "  /* Definition of color scheme for unfitted estimators */\n",
       "  --sklearn-color-unfitted-level-0: #fff5e6;\n",
       "  --sklearn-color-unfitted-level-1: #f6e4d2;\n",
       "  --sklearn-color-unfitted-level-2: #ffe0b3;\n",
       "  --sklearn-color-unfitted-level-3: chocolate;\n",
       "  /* Definition of color scheme for fitted estimators */\n",
       "  --sklearn-color-fitted-level-0: #f0f8ff;\n",
       "  --sklearn-color-fitted-level-1: #d4ebff;\n",
       "  --sklearn-color-fitted-level-2: #b3dbfd;\n",
       "  --sklearn-color-fitted-level-3: cornflowerblue;\n",
       "\n",
       "  /* Specific color for light theme */\n",
       "  --sklearn-color-text-on-default-background: var(--sg-text-color, var(--theme-code-foreground, var(--jp-content-font-color1, black)));\n",
       "  --sklearn-color-background: var(--sg-background-color, var(--theme-background, var(--jp-layout-color0, white)));\n",
       "  --sklearn-color-border-box: var(--sg-text-color, var(--theme-code-foreground, var(--jp-content-font-color1, black)));\n",
       "  --sklearn-color-icon: #696969;\n",
       "\n",
       "  @media (prefers-color-scheme: dark) {\n",
       "    /* Redefinition of color scheme for dark theme */\n",
       "    --sklearn-color-text-on-default-background: var(--sg-text-color, var(--theme-code-foreground, var(--jp-content-font-color1, white)));\n",
       "    --sklearn-color-background: var(--sg-background-color, var(--theme-background, var(--jp-layout-color0, #111)));\n",
       "    --sklearn-color-border-box: var(--sg-text-color, var(--theme-code-foreground, var(--jp-content-font-color1, white)));\n",
       "    --sklearn-color-icon: #878787;\n",
       "  }\n",
       "}\n",
       "\n",
       "#sk-container-id-3 {\n",
       "  color: var(--sklearn-color-text);\n",
       "}\n",
       "\n",
       "#sk-container-id-3 pre {\n",
       "  padding: 0;\n",
       "}\n",
       "\n",
       "#sk-container-id-3 input.sk-hidden--visually {\n",
       "  border: 0;\n",
       "  clip: rect(1px 1px 1px 1px);\n",
       "  clip: rect(1px, 1px, 1px, 1px);\n",
       "  height: 1px;\n",
       "  margin: -1px;\n",
       "  overflow: hidden;\n",
       "  padding: 0;\n",
       "  position: absolute;\n",
       "  width: 1px;\n",
       "}\n",
       "\n",
       "#sk-container-id-3 div.sk-dashed-wrapped {\n",
       "  border: 1px dashed var(--sklearn-color-line);\n",
       "  margin: 0 0.4em 0.5em 0.4em;\n",
       "  box-sizing: border-box;\n",
       "  padding-bottom: 0.4em;\n",
       "  background-color: var(--sklearn-color-background);\n",
       "}\n",
       "\n",
       "#sk-container-id-3 div.sk-container {\n",
       "  /* jupyter's `normalize.less` sets `[hidden] { display: none; }`\n",
       "     but bootstrap.min.css set `[hidden] { display: none !important; }`\n",
       "     so we also need the `!important` here to be able to override the\n",
       "     default hidden behavior on the sphinx rendered scikit-learn.org.\n",
       "     See: https://github.com/scikit-learn/scikit-learn/issues/21755 */\n",
       "  display: inline-block !important;\n",
       "  position: relative;\n",
       "}\n",
       "\n",
       "#sk-container-id-3 div.sk-text-repr-fallback {\n",
       "  display: none;\n",
       "}\n",
       "\n",
       "div.sk-parallel-item,\n",
       "div.sk-serial,\n",
       "div.sk-item {\n",
       "  /* draw centered vertical line to link estimators */\n",
       "  background-image: linear-gradient(var(--sklearn-color-text-on-default-background), var(--sklearn-color-text-on-default-background));\n",
       "  background-size: 2px 100%;\n",
       "  background-repeat: no-repeat;\n",
       "  background-position: center center;\n",
       "}\n",
       "\n",
       "/* Parallel-specific style estimator block */\n",
       "\n",
       "#sk-container-id-3 div.sk-parallel-item::after {\n",
       "  content: \"\";\n",
       "  width: 100%;\n",
       "  border-bottom: 2px solid var(--sklearn-color-text-on-default-background);\n",
       "  flex-grow: 1;\n",
       "}\n",
       "\n",
       "#sk-container-id-3 div.sk-parallel {\n",
       "  display: flex;\n",
       "  align-items: stretch;\n",
       "  justify-content: center;\n",
       "  background-color: var(--sklearn-color-background);\n",
       "  position: relative;\n",
       "}\n",
       "\n",
       "#sk-container-id-3 div.sk-parallel-item {\n",
       "  display: flex;\n",
       "  flex-direction: column;\n",
       "}\n",
       "\n",
       "#sk-container-id-3 div.sk-parallel-item:first-child::after {\n",
       "  align-self: flex-end;\n",
       "  width: 50%;\n",
       "}\n",
       "\n",
       "#sk-container-id-3 div.sk-parallel-item:last-child::after {\n",
       "  align-self: flex-start;\n",
       "  width: 50%;\n",
       "}\n",
       "\n",
       "#sk-container-id-3 div.sk-parallel-item:only-child::after {\n",
       "  width: 0;\n",
       "}\n",
       "\n",
       "/* Serial-specific style estimator block */\n",
       "\n",
       "#sk-container-id-3 div.sk-serial {\n",
       "  display: flex;\n",
       "  flex-direction: column;\n",
       "  align-items: center;\n",
       "  background-color: var(--sklearn-color-background);\n",
       "  padding-right: 1em;\n",
       "  padding-left: 1em;\n",
       "}\n",
       "\n",
       "\n",
       "/* Toggleable style: style used for estimator/Pipeline/ColumnTransformer box that is\n",
       "clickable and can be expanded/collapsed.\n",
       "- Pipeline and ColumnTransformer use this feature and define the default style\n",
       "- Estimators will overwrite some part of the style using the `sk-estimator` class\n",
       "*/\n",
       "\n",
       "/* Pipeline and ColumnTransformer style (default) */\n",
       "\n",
       "#sk-container-id-3 div.sk-toggleable {\n",
       "  /* Default theme specific background. It is overwritten whether we have a\n",
       "  specific estimator or a Pipeline/ColumnTransformer */\n",
       "  background-color: var(--sklearn-color-background);\n",
       "}\n",
       "\n",
       "/* Toggleable label */\n",
       "#sk-container-id-3 label.sk-toggleable__label {\n",
       "  cursor: pointer;\n",
       "  display: flex;\n",
       "  width: 100%;\n",
       "  margin-bottom: 0;\n",
       "  padding: 0.5em;\n",
       "  box-sizing: border-box;\n",
       "  text-align: center;\n",
       "  align-items: start;\n",
       "  justify-content: space-between;\n",
       "  gap: 0.5em;\n",
       "}\n",
       "\n",
       "#sk-container-id-3 label.sk-toggleable__label .caption {\n",
       "  font-size: 0.6rem;\n",
       "  font-weight: lighter;\n",
       "  color: var(--sklearn-color-text-muted);\n",
       "}\n",
       "\n",
       "#sk-container-id-3 label.sk-toggleable__label-arrow:before {\n",
       "  /* Arrow on the left of the label */\n",
       "  content: \"▸\";\n",
       "  float: left;\n",
       "  margin-right: 0.25em;\n",
       "  color: var(--sklearn-color-icon);\n",
       "}\n",
       "\n",
       "#sk-container-id-3 label.sk-toggleable__label-arrow:hover:before {\n",
       "  color: var(--sklearn-color-text);\n",
       "}\n",
       "\n",
       "/* Toggleable content - dropdown */\n",
       "\n",
       "#sk-container-id-3 div.sk-toggleable__content {\n",
       "  max-height: 0;\n",
       "  max-width: 0;\n",
       "  overflow: hidden;\n",
       "  text-align: left;\n",
       "  /* unfitted */\n",
       "  background-color: var(--sklearn-color-unfitted-level-0);\n",
       "}\n",
       "\n",
       "#sk-container-id-3 div.sk-toggleable__content.fitted {\n",
       "  /* fitted */\n",
       "  background-color: var(--sklearn-color-fitted-level-0);\n",
       "}\n",
       "\n",
       "#sk-container-id-3 div.sk-toggleable__content pre {\n",
       "  margin: 0.2em;\n",
       "  border-radius: 0.25em;\n",
       "  color: var(--sklearn-color-text);\n",
       "  /* unfitted */\n",
       "  background-color: var(--sklearn-color-unfitted-level-0);\n",
       "}\n",
       "\n",
       "#sk-container-id-3 div.sk-toggleable__content.fitted pre {\n",
       "  /* unfitted */\n",
       "  background-color: var(--sklearn-color-fitted-level-0);\n",
       "}\n",
       "\n",
       "#sk-container-id-3 input.sk-toggleable__control:checked~div.sk-toggleable__content {\n",
       "  /* Expand drop-down */\n",
       "  max-height: 200px;\n",
       "  max-width: 100%;\n",
       "  overflow: auto;\n",
       "}\n",
       "\n",
       "#sk-container-id-3 input.sk-toggleable__control:checked~label.sk-toggleable__label-arrow:before {\n",
       "  content: \"▾\";\n",
       "}\n",
       "\n",
       "/* Pipeline/ColumnTransformer-specific style */\n",
       "\n",
       "#sk-container-id-3 div.sk-label input.sk-toggleable__control:checked~label.sk-toggleable__label {\n",
       "  color: var(--sklearn-color-text);\n",
       "  background-color: var(--sklearn-color-unfitted-level-2);\n",
       "}\n",
       "\n",
       "#sk-container-id-3 div.sk-label.fitted input.sk-toggleable__control:checked~label.sk-toggleable__label {\n",
       "  background-color: var(--sklearn-color-fitted-level-2);\n",
       "}\n",
       "\n",
       "/* Estimator-specific style */\n",
       "\n",
       "/* Colorize estimator box */\n",
       "#sk-container-id-3 div.sk-estimator input.sk-toggleable__control:checked~label.sk-toggleable__label {\n",
       "  /* unfitted */\n",
       "  background-color: var(--sklearn-color-unfitted-level-2);\n",
       "}\n",
       "\n",
       "#sk-container-id-3 div.sk-estimator.fitted input.sk-toggleable__control:checked~label.sk-toggleable__label {\n",
       "  /* fitted */\n",
       "  background-color: var(--sklearn-color-fitted-level-2);\n",
       "}\n",
       "\n",
       "#sk-container-id-3 div.sk-label label.sk-toggleable__label,\n",
       "#sk-container-id-3 div.sk-label label {\n",
       "  /* The background is the default theme color */\n",
       "  color: var(--sklearn-color-text-on-default-background);\n",
       "}\n",
       "\n",
       "/* On hover, darken the color of the background */\n",
       "#sk-container-id-3 div.sk-label:hover label.sk-toggleable__label {\n",
       "  color: var(--sklearn-color-text);\n",
       "  background-color: var(--sklearn-color-unfitted-level-2);\n",
       "}\n",
       "\n",
       "/* Label box, darken color on hover, fitted */\n",
       "#sk-container-id-3 div.sk-label.fitted:hover label.sk-toggleable__label.fitted {\n",
       "  color: var(--sklearn-color-text);\n",
       "  background-color: var(--sklearn-color-fitted-level-2);\n",
       "}\n",
       "\n",
       "/* Estimator label */\n",
       "\n",
       "#sk-container-id-3 div.sk-label label {\n",
       "  font-family: monospace;\n",
       "  font-weight: bold;\n",
       "  display: inline-block;\n",
       "  line-height: 1.2em;\n",
       "}\n",
       "\n",
       "#sk-container-id-3 div.sk-label-container {\n",
       "  text-align: center;\n",
       "}\n",
       "\n",
       "/* Estimator-specific */\n",
       "#sk-container-id-3 div.sk-estimator {\n",
       "  font-family: monospace;\n",
       "  border: 1px dotted var(--sklearn-color-border-box);\n",
       "  border-radius: 0.25em;\n",
       "  box-sizing: border-box;\n",
       "  margin-bottom: 0.5em;\n",
       "  /* unfitted */\n",
       "  background-color: var(--sklearn-color-unfitted-level-0);\n",
       "}\n",
       "\n",
       "#sk-container-id-3 div.sk-estimator.fitted {\n",
       "  /* fitted */\n",
       "  background-color: var(--sklearn-color-fitted-level-0);\n",
       "}\n",
       "\n",
       "/* on hover */\n",
       "#sk-container-id-3 div.sk-estimator:hover {\n",
       "  /* unfitted */\n",
       "  background-color: var(--sklearn-color-unfitted-level-2);\n",
       "}\n",
       "\n",
       "#sk-container-id-3 div.sk-estimator.fitted:hover {\n",
       "  /* fitted */\n",
       "  background-color: var(--sklearn-color-fitted-level-2);\n",
       "}\n",
       "\n",
       "/* Specification for estimator info (e.g. \"i\" and \"?\") */\n",
       "\n",
       "/* Common style for \"i\" and \"?\" */\n",
       "\n",
       ".sk-estimator-doc-link,\n",
       "a:link.sk-estimator-doc-link,\n",
       "a:visited.sk-estimator-doc-link {\n",
       "  float: right;\n",
       "  font-size: smaller;\n",
       "  line-height: 1em;\n",
       "  font-family: monospace;\n",
       "  background-color: var(--sklearn-color-background);\n",
       "  border-radius: 1em;\n",
       "  height: 1em;\n",
       "  width: 1em;\n",
       "  text-decoration: none !important;\n",
       "  margin-left: 0.5em;\n",
       "  text-align: center;\n",
       "  /* unfitted */\n",
       "  border: var(--sklearn-color-unfitted-level-1) 1pt solid;\n",
       "  color: var(--sklearn-color-unfitted-level-1);\n",
       "}\n",
       "\n",
       ".sk-estimator-doc-link.fitted,\n",
       "a:link.sk-estimator-doc-link.fitted,\n",
       "a:visited.sk-estimator-doc-link.fitted {\n",
       "  /* fitted */\n",
       "  border: var(--sklearn-color-fitted-level-1) 1pt solid;\n",
       "  color: var(--sklearn-color-fitted-level-1);\n",
       "}\n",
       "\n",
       "/* On hover */\n",
       "div.sk-estimator:hover .sk-estimator-doc-link:hover,\n",
       ".sk-estimator-doc-link:hover,\n",
       "div.sk-label-container:hover .sk-estimator-doc-link:hover,\n",
       ".sk-estimator-doc-link:hover {\n",
       "  /* unfitted */\n",
       "  background-color: var(--sklearn-color-unfitted-level-3);\n",
       "  color: var(--sklearn-color-background);\n",
       "  text-decoration: none;\n",
       "}\n",
       "\n",
       "div.sk-estimator.fitted:hover .sk-estimator-doc-link.fitted:hover,\n",
       ".sk-estimator-doc-link.fitted:hover,\n",
       "div.sk-label-container:hover .sk-estimator-doc-link.fitted:hover,\n",
       ".sk-estimator-doc-link.fitted:hover {\n",
       "  /* fitted */\n",
       "  background-color: var(--sklearn-color-fitted-level-3);\n",
       "  color: var(--sklearn-color-background);\n",
       "  text-decoration: none;\n",
       "}\n",
       "\n",
       "/* Span, style for the box shown on hovering the info icon */\n",
       ".sk-estimator-doc-link span {\n",
       "  display: none;\n",
       "  z-index: 9999;\n",
       "  position: relative;\n",
       "  font-weight: normal;\n",
       "  right: .2ex;\n",
       "  padding: .5ex;\n",
       "  margin: .5ex;\n",
       "  width: min-content;\n",
       "  min-width: 20ex;\n",
       "  max-width: 50ex;\n",
       "  color: var(--sklearn-color-text);\n",
       "  box-shadow: 2pt 2pt 4pt #999;\n",
       "  /* unfitted */\n",
       "  background: var(--sklearn-color-unfitted-level-0);\n",
       "  border: .5pt solid var(--sklearn-color-unfitted-level-3);\n",
       "}\n",
       "\n",
       ".sk-estimator-doc-link.fitted span {\n",
       "  /* fitted */\n",
       "  background: var(--sklearn-color-fitted-level-0);\n",
       "  border: var(--sklearn-color-fitted-level-3);\n",
       "}\n",
       "\n",
       ".sk-estimator-doc-link:hover span {\n",
       "  display: block;\n",
       "}\n",
       "\n",
       "/* \"?\"-specific style due to the `<a>` HTML tag */\n",
       "\n",
       "#sk-container-id-3 a.estimator_doc_link {\n",
       "  float: right;\n",
       "  font-size: 1rem;\n",
       "  line-height: 1em;\n",
       "  font-family: monospace;\n",
       "  background-color: var(--sklearn-color-background);\n",
       "  border-radius: 1rem;\n",
       "  height: 1rem;\n",
       "  width: 1rem;\n",
       "  text-decoration: none;\n",
       "  /* unfitted */\n",
       "  color: var(--sklearn-color-unfitted-level-1);\n",
       "  border: var(--sklearn-color-unfitted-level-1) 1pt solid;\n",
       "}\n",
       "\n",
       "#sk-container-id-3 a.estimator_doc_link.fitted {\n",
       "  /* fitted */\n",
       "  border: var(--sklearn-color-fitted-level-1) 1pt solid;\n",
       "  color: var(--sklearn-color-fitted-level-1);\n",
       "}\n",
       "\n",
       "/* On hover */\n",
       "#sk-container-id-3 a.estimator_doc_link:hover {\n",
       "  /* unfitted */\n",
       "  background-color: var(--sklearn-color-unfitted-level-3);\n",
       "  color: var(--sklearn-color-background);\n",
       "  text-decoration: none;\n",
       "}\n",
       "\n",
       "#sk-container-id-3 a.estimator_doc_link.fitted:hover {\n",
       "  /* fitted */\n",
       "  background-color: var(--sklearn-color-fitted-level-3);\n",
       "}\n",
       "</style><div id=\"sk-container-id-3\" class=\"sk-top-container\"><div class=\"sk-text-repr-fallback\"><pre>LinearRegression()</pre><b>In a Jupyter environment, please rerun this cell to show the HTML representation or trust the notebook. <br />On GitHub, the HTML representation is unable to render, please try loading this page with nbviewer.org.</b></div><div class=\"sk-container\" hidden><div class=\"sk-item\"><div class=\"sk-estimator fitted sk-toggleable\"><input class=\"sk-toggleable__control sk-hidden--visually\" id=\"sk-estimator-id-3\" type=\"checkbox\" checked><label for=\"sk-estimator-id-3\" class=\"sk-toggleable__label fitted sk-toggleable__label-arrow\"><div><div>LinearRegression</div></div><div><a class=\"sk-estimator-doc-link fitted\" rel=\"noreferrer\" target=\"_blank\" href=\"https://scikit-learn.org/1.6/modules/generated/sklearn.linear_model.LinearRegression.html\">?<span>Documentation for LinearRegression</span></a><span class=\"sk-estimator-doc-link fitted\">i<span>Fitted</span></span></div></label><div class=\"sk-toggleable__content fitted\"><pre>LinearRegression()</pre></div> </div></div></div></div>"
      ],
      "text/plain": [
       "LinearRegression()"
      ]
     },
     "execution_count": 107,
     "metadata": {},
     "output_type": "execute_result"
    }
   ],
   "source": [
    "from sklearn.linear_model import LinearRegression\n",
    "from sklearn.metrics import mean_squared_error, r2_score\n",
    "model2 = LinearRegression()\n",
    "model2.fit(X_train, y_train)"
   ]
  },
  {
   "cell_type": "code",
   "execution_count": 108,
   "metadata": {
    "executionInfo": {
     "elapsed": 402,
     "status": "ok",
     "timestamp": 1735010170388,
     "user": {
      "displayName": "NNamTaj",
      "userId": "04579073928170218763"
     },
     "user_tz": -420
    },
    "id": "aT7Q27n-oij7"
   },
   "outputs": [],
   "source": [
    "y_pred = model2.predict(X_test)"
   ]
  },
  {
   "cell_type": "code",
   "execution_count": 109,
   "metadata": {
    "colab": {
     "base_uri": "https://localhost:8080/"
    },
    "executionInfo": {
     "elapsed": 465,
     "status": "ok",
     "timestamp": 1735010175028,
     "user": {
      "displayName": "NNamTaj",
      "userId": "04579073928170218763"
     },
     "user_tz": -420
    },
    "id": "etoSUZFto0Cs",
    "outputId": "55f73e20-95c8-4b54-e457-86d0ccea90ec"
   },
   "outputs": [
    {
     "name": "stdout",
     "output_type": "stream",
     "text": [
      "Mean Squared Error: 0.08207282839032781\n"
     ]
    }
   ],
   "source": [
    "mse = mean_squared_error(y_test, y_pred)\n",
    "print(f'Mean Squared Error: {mse}')"
   ]
  },
  {
   "cell_type": "code",
   "execution_count": 111,
   "metadata": {
    "colab": {
     "base_uri": "https://localhost:8080/"
    },
    "executionInfo": {
     "elapsed": 374,
     "status": "ok",
     "timestamp": 1735010195010,
     "user": {
      "displayName": "NNamTaj",
      "userId": "04579073928170218763"
     },
     "user_tz": -420
    },
    "id": "RFcfEcJBo665",
    "outputId": "4df8185d-4e28-40b1-fcaa-3d1d734bed3b"
   },
   "outputs": [
    {
     "name": "stdout",
     "output_type": "stream",
     "text": [
      "Predicted heat index: 28.0\n"
     ]
    },
    {
     "name": "stderr",
     "output_type": "stream",
     "text": [
      "/usr/local/lib/python3.10/dist-packages/sklearn/utils/validation.py:2739: UserWarning: X does not have valid feature names, but LinearRegression was fitted with feature names\n",
      "  warnings.warn(\n"
     ]
    }
   ],
   "source": [
    "import numpy as np\n",
    "\n",
    "# Example usage with a sample input\n",
    "sample_input = np.array([[33, 24, 11, 0, 80, 0, 1005]])  # Example input features\n",
    "\n",
    "# Make prediction using the loaded model\n",
    "predicted_heat_index = model2.predict(sample_input).round()\n",
    "print(f\"Predicted heat index: {predicted_heat_index[0]}\")"
   ]
  },
  {
   "cell_type": "code",
   "execution_count": 112,
   "metadata": {
    "executionInfo": {
     "elapsed": 339,
     "status": "ok",
     "timestamp": 1735010200563,
     "user": {
      "displayName": "NNamTaj",
      "userId": "04579073928170218763"
     },
     "user_tz": -420
    },
    "id": "vnilipp_Cf4m"
   },
   "outputs": [],
   "source": [
    "hochiminh.to_csv('/content/drive/MyDrive/Big Data Tech/Project/hochiminh.csv', index=False)"
   ]
  },
  {
   "cell_type": "code",
   "execution_count": 113,
   "metadata": {
    "colab": {
     "base_uri": "https://localhost:8080/"
    },
    "executionInfo": {
     "elapsed": 347,
     "status": "ok",
     "timestamp": 1735010202713,
     "user": {
      "displayName": "NNamTaj",
      "userId": "04579073928170218763"
     },
     "user_tz": -420
    },
    "id": "0JODIBw_J_Hr",
    "outputId": "2f1eeb19-5ed8-4112-9905-5911add0319c"
   },
   "outputs": [
    {
     "data": {
      "text/plain": [
       "['/content/drive/MyDrive/Big Data Tech/Project/weather_model.joblib']"
      ]
     },
     "execution_count": 113,
     "metadata": {},
     "output_type": "execute_result"
    }
   ],
   "source": [
    "import joblib\n",
    "model2_path = \"/content/drive/MyDrive/Big Data Tech/Project/weather_model.joblib\"  # Changed file extension\n",
    "joblib.dump(model2, model2_path)  # Use joblib.dump to save the model"
   ]
  }
 ],
 "metadata": {
  "colab": {
   "gpuType": "T4",
   "provenance": []
  },
  "kernelspec": {
   "display_name": "Python 3",
   "name": "python3"
  },
  "language_info": {
   "name": "python",
   "version": "3.12.1"
  }
 },
 "nbformat": 4,
 "nbformat_minor": 0
}
